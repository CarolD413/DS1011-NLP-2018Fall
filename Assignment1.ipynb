{
 "cells": [
  {
   "cell_type": "markdown",
   "metadata": {},
   "source": [
    "# NLP Assignment 1"
   ]
  },
  {
   "cell_type": "code",
   "execution_count": 1,
   "metadata": {},
   "outputs": [],
   "source": [
    "import os\n",
    "from collections import Counter\n",
    "import spacy\n",
    "import string\n",
    "import pickle as pkl\n",
    "import numpy as np\n",
    "import matplotlib.pyplot as plt\n",
    "\n",
    "#torch related packages\n",
    "from torch.utils.data import Dataset\n",
    "import torch\n",
    "import torch.nn as nn\n",
    "import torch.nn.functional as F"
   ]
  },
  {
   "cell_type": "code",
   "execution_count": 2,
   "metadata": {},
   "outputs": [],
   "source": [
    "# initial hyperparameters\n",
    "max_vocab_size=1000\n",
    "num_epochs = 10 \n",
    "learning_rate = 0.01\n",
    "emb_dim = 100\n",
    "ngram_n = 1\n",
    "BATCH_SIZE = 32"
   ]
  },
  {
   "cell_type": "markdown",
   "metadata": {},
   "source": [
    "# 1. Read Data"
   ]
  },
  {
   "cell_type": "code",
   "execution_count": 3,
   "metadata": {},
   "outputs": [],
   "source": [
    "train_pos_dir = 'aclImdb/train/pos'\n",
    "train_neg_dir = 'aclImdb/train/neg'\n",
    "test_pos_dir = 'aclImdb/test/pos'\n",
    "test_neg_dir = 'aclImdb/test/neg'\n",
    "\n",
    "def read_file(directory):\n",
    "    '''\n",
    "    This function reads all the text files under the directory folder\n",
    "    and returns the review content and filename in two arrays,\n",
    "    '''\n",
    "    all_files = os.listdir(directory)\n",
    "    text = []\n",
    "    id_ratings = []\n",
    "    for file in all_files:\n",
    "        reviewID, rating = file[:-4].split('_')\n",
    "        id_ratings.append([reviewID,rating])\n",
    "        with open(os.path.join(directory,file),'r') as f:\n",
    "            content = f.read()\n",
    "        text.append(content)     \n",
    "    return text,id_ratings\n",
    "\n",
    "def load_data(pos_dir,neg_dir,data_size):\n",
    "    '''\n",
    "    This function reads the negative and positive data and load them into a balanced dataset\n",
    "    '''\n",
    "    pos_text, pos_id_ratings = read_file(pos_dir)\n",
    "    neg_text, neg_id_ratings = read_file(neg_dir)\n",
    "    text = []\n",
    "    label = []\n",
    "    id_ratings = []\n",
    "    for i in range(int(data_size/2)):\n",
    "        text.append(pos_text[i])\n",
    "        label.append(1)\n",
    "        id_ratings.append(pos_id_ratings)\n",
    "        text.append(neg_text[i])\n",
    "        label.append(0)\n",
    "        id_ratings.append(neg_id_ratings)\n",
    "    return text,label,id_ratings"
   ]
  },
  {
   "cell_type": "code",
   "execution_count": 4,
   "metadata": {},
   "outputs": [],
   "source": [
    "# Load the dataset \n",
    "\n",
    "# Split into training and validation set\n",
    "train_split = 20000\n",
    "\n",
    "train,targets,id_ratings = load_data(train_pos_dir,train_neg_dir,25000)\n",
    "train_data = train[:train_split]\n",
    "train_targets = targets[:train_split]\n",
    "train_id_ratings = id_ratings[:train_split]\n",
    "\n",
    "val_data = train[train_split:]\n",
    "val_targets = targets[train_split:]\n",
    "val_id_ratings = id_ratings[train_split:]\n",
    "\n",
    "test_data,test_targets,test_id_ratings = load_data(test_pos_dir,test_neg_dir,25000)"
   ]
  },
  {
   "cell_type": "code",
   "execution_count": 5,
   "metadata": {},
   "outputs": [
    {
     "name": "stdout",
     "output_type": "stream",
     "text": [
      "Training set size: 20000\n",
      "Validation set size: 5000\n",
      "Test set size:25000\n"
     ]
    }
   ],
   "source": [
    "# The size of the train, validation and test set\n",
    "print('Training set size: {}'.format(len(train_data)))\n",
    "print('Validation set size: {}'.format(len(val_data)))\n",
    "print('Test set size:{}'.format(len(test_data)))"
   ]
  },
  {
   "cell_type": "markdown",
   "metadata": {},
   "source": [
    "## 2. Feature Engineering"
   ]
  },
  {
   "cell_type": "code",
   "execution_count": 6,
   "metadata": {},
   "outputs": [],
   "source": [
    "# The tokenization function \n",
    "\n",
    "# import spacy\n",
    "# import string\n",
    "\n",
    "# Load English tokenizer, tagger, parser, NER and word vectors\n",
    "tokenizer = spacy.load('en_core_web_sm')\n",
    "punctuations = string.punctuation\n",
    "\n",
    "# lowercase and remove punctuation\n",
    "def tokenize(sent):\n",
    "  tokens = tokenizer(sent)\n",
    "  return [token.text.lower() for token in tokens if (token.text not in punctuations)]"
   ]
  },
  {
   "cell_type": "code",
   "execution_count": 110,
   "metadata": {},
   "outputs": [],
   "source": [
    "def tokenize_dataset(dataset,n):\n",
    "    '''\n",
    "    This function tokenize given dataset into ngrams dataset\n",
    "    '''\n",
    "    token_dataset = [] #all the tokens from the samples\n",
    "    all_tokens = [] #unique tokens\n",
    "    \n",
    "    for sample in dataset:\n",
    "        tokens = tokenize(sample)\n",
    "        #if it's 1gram\n",
    "        if(n == 1):\n",
    "            token_dataset.append(tokens)\n",
    "            all_tokens += tokens\n",
    "        #otherwise pair up n tokens to form ngram\n",
    "        else:\n",
    "            ngrams = [' '.join(tokens[i:i+n]) for i in range(len(tokens)-n+1)]\n",
    "            token_dataset.append(ngrams)\n",
    "            all_tokens += ngrams\n",
    "    \n",
    "    return token_dataset, all_tokens"
   ]
  },
  {
   "cell_type": "code",
   "execution_count": null,
   "metadata": {},
   "outputs": [],
   "source": [
    "#write tokens to file\n",
    "\n",
    "# import pickle as pkl\n",
    "# val set tokens\n",
    "val_data_tokens, _ = tokenize_dataset(val_data,1)\n",
    "pkl.dump(val_data_tokens, open(\"val_data_tokens_1gram.p\", \"wb\"))"
   ]
  },
  {
   "cell_type": "code",
   "execution_count": null,
   "metadata": {},
   "outputs": [],
   "source": [
    "# test set tokens\n",
    "test_data_tokens, _ = tokenize_dataset(test_data,1)\n",
    "pkl.dump(test_data_tokens, open(\"test_data_tokens_1gram.p\", \"wb\"))"
   ]
  },
  {
   "cell_type": "code",
   "execution_count": null,
   "metadata": {},
   "outputs": [],
   "source": [
    "# train set tokens\n",
    "train_data_tokens, all_train_tokens = tokenize_dataset(train_data,1)\n",
    "pkl.dump(train_data_tokens, open(\"train_data_tokens_1gram.p\", \"wb\"))\n",
    "pkl.dump(all_train_tokens, open(\"all_train_tokens_1gram.p\", \"wb\"))"
   ]
  },
  {
   "cell_type": "code",
   "execution_count": null,
   "metadata": {},
   "outputs": [],
   "source": [
    "def write_tokens_to_file_ngram(val_data,test_data,train_data,n):\n",
    "    '''\n",
    "    this function tokenize val,test and train data to ngrams and save them to file\n",
    "    file name: \"val_data_tokens_ngram.p\" n={1,2,3,4}\n",
    "                \"test_data_tokens_ngram.p\"\n",
    "                \"train_data_tokens_ngram.p\"\n",
    "                \"all_train_tokens_ngram.p\"\n",
    "    '''\n",
    "    # val set tokens\n",
    "    print (\"Tokenizing val data\")\n",
    "    val_data_tokens, _ = tokenize_dataset(val_data,n)\n",
    "    pkl.dump(val_data_tokens, open(\"val_data_tokens_\"+str(n)+\"gram.p\", \"wb\"))\n",
    "\n",
    "    # test set tokens\n",
    "    print (\"Tokenizing test data\")\n",
    "    test_data_tokens, _ = tokenize_dataset(test_data,n)\n",
    "    pkl.dump(test_data_tokens, open(\"test_data_tokens_\"+str(n)+\"gram.p\", \"wb\"))\n",
    "\n",
    "    # train set tokens\n",
    "    print (\"Tokenizing train data\")\n",
    "    train_data_tokens, all_train_tokens = tokenize_dataset(train_data,n)\n",
    "    pkl.dump(train_data_tokens, open(\"train_data_tokens_\"+str(n)+\"gram.p\", \"wb\"))\n",
    "    pkl.dump(all_train_tokens, open(\"all_train_tokens_\"+str(n)+\"gram.p\", \"wb\"))"
   ]
  },
  {
   "cell_type": "markdown",
   "metadata": {},
   "source": [
    "ngram tokenizing"
   ]
  },
  {
   "cell_type": "code",
   "execution_count": null,
   "metadata": {},
   "outputs": [],
   "source": [
    "# 2gram tokenization\n",
    "write_tokens_to_file_ngram(val_data,test_data,train_data,2)"
   ]
  },
  {
   "cell_type": "code",
   "execution_count": 26,
   "metadata": {},
   "outputs": [
    {
     "name": "stdout",
     "output_type": "stream",
     "text": [
      "Tokenizing val data\n",
      "Tokenizing test data\n",
      "Tokenizing train data\n"
     ]
    }
   ],
   "source": [
    "# 3gram tokenization\n",
    "write_tokens_to_file_ngram(val_data,test_data,train_data,3)"
   ]
  },
  {
   "cell_type": "code",
   "execution_count": 28,
   "metadata": {},
   "outputs": [
    {
     "name": "stdout",
     "output_type": "stream",
     "text": [
      "Tokenizing val data\n",
      "Tokenizing test data\n",
      "Tokenizing train data\n"
     ]
    }
   ],
   "source": [
    "#4gram tokenization\n",
    "write_tokens_to_file_ngram(val_data,test_data,train_data,4)"
   ]
  },
  {
   "cell_type": "markdown",
   "metadata": {},
   "source": [
    "### Load preprocessed token files"
   ]
  },
  {
   "cell_type": "code",
   "execution_count": 7,
   "metadata": {},
   "outputs": [],
   "source": [
    "def load_ngram_tokens(n):\n",
    "    '''\n",
    "    This function load preprocessed train, val and test tokens datasets of ngrams\n",
    "    @param n: an int from {1,2,3,4}\n",
    "    '''\n",
    "    print(str(n)+'gram tokens data:')\n",
    "    train_data_tokens = pkl.load(open(\"train_data_tokens_\"+str(n)+\"gram.p\", \"rb\"))\n",
    "    all_train_tokens = pkl.load(open(\"all_train_tokens_\"+str(n)+\"gram.p\", \"rb\"))\n",
    "\n",
    "    val_data_tokens = pkl.load(open(\"val_data_tokens_\"+str(n)+\"gram.p\", \"rb\"))\n",
    "    test_data_tokens = pkl.load(open(\"test_data_tokens_\"+str(n)+\"gram.p\", \"rb\"))\n",
    "    \n",
    "    # double checking\n",
    "    print (\"Train dataset size is {}\".format(len(train_data_tokens)))\n",
    "    print (\"Val dataset size is {}\".format(len(val_data_tokens)))\n",
    "    print (\"Test dataset size is {}\".format(len(test_data_tokens)))\n",
    "    print (\"Total number of tokens in train dataset is {}\".format(len(all_train_tokens)))\n",
    "    \n",
    "    return train_data_tokens,all_train_tokens,val_data_tokens,test_data_tokens"
   ]
  },
  {
   "cell_type": "code",
   "execution_count": 8,
   "metadata": {},
   "outputs": [],
   "source": [
    "#create the vocabulary of most common k tokens\n",
    "from collections import Counter\n",
    "\n",
    "# save index 0 for pad and 1 for unk \n",
    "PAD_IDX = 0\n",
    "UNK_IDX = 1\n",
    "\n",
    "def build_vacob(all_tokens, topk):\n",
    "    '''\n",
    "    This function creates the vocabulary of most common k tokens\n",
    "    and builds token2id, id2token lists\n",
    "    @param all_tokens: all the unique tokens\n",
    "    @param max_vocab_size: an int of number of most common tokens needed\n",
    "    '''\n",
    "    token_counter = Counter(all_tokens)\n",
    "    vocab, count = zip(*token_counter.most_common(max_vocab_size))\n",
    "    \n",
    "    id2token = list(vocab)\n",
    "    token2id = dict(zip(vocab, range(2,2+len(vocab)))) \n",
    "    \n",
    "    # add pad and unk to the all tokens list\n",
    "    id2token = ['<pad>', '<unk>'] + id2token \n",
    "    \n",
    "    #set index for pad and unk\n",
    "    token2id['<pad>'] = PAD_IDX \n",
    "    token2id['<unk>'] = UNK_IDX\n",
    "    \n",
    "#     print('id2token len: {}'.format(len(id2token)))\n",
    "    \n",
    "    return token2id, id2token   \n",
    "\n",
    "def token2index_dataset(tokens_data,token2id, id2token):\n",
    "    '''\n",
    "    This function converts tokenized data samples to id\n",
    "    @param tokens_data: list of unique tokens\n",
    "    @param token2id: list of token ids\n",
    "    @param id2token: list of ordered tokens\n",
    "    '''\n",
    "    indices_data = []\n",
    "    for tokens in tokens_data:\n",
    "        index_list = [token2id[token] if token in token2id else UNK_IDX for token in tokens]\n",
    "        indices_data.append(index_list)\n",
    "    return indices_data\n",
    "\n",
    "def process_token_dataset(n,max_vocab_size):\n",
    "    '''\n",
    "    This function processes token dataset to indices dataset\n",
    "    @param n: an int in {1,2,3,4} ngram\n",
    "    @param max_vocab_size: an int of maximum vocabulary size\n",
    "    '''\n",
    "    #load the tokens dataset\n",
    "    train_data_tokens,all_train_tokens,val_data_tokens,test_data_tokens = load_ngram_tokens(n)\n",
    "    \n",
    "    #build the vocabulary of most common k tokens \n",
    "    token2id, id2token = build_vacob(all_train_tokens,max_vocab_size)\n",
    "    \n",
    "    # convert token to id for train,val and test dataset\n",
    "    train_data_indices = token2index_dataset(train_data_tokens,token2id, id2token)\n",
    "    val_data_indices = token2index_dataset(val_data_tokens,token2id, id2token)\n",
    "    test_data_indices = token2index_dataset(test_data_tokens,token2id, id2token)\n",
    "    \n",
    "#     # double checking\n",
    "#     print (\"Train dataset size is {}\".format(len(train_data_indices)))\n",
    "#     print (\"Val dataset size is {}\".format(len(val_data_indices)))\n",
    "#     print (\"Test dataset size is {}\".format(len(test_data_indices)))\n",
    "    \n",
    "    return train_data_indices, val_data_indices, test_data_indices"
   ]
  },
  {
   "cell_type": "markdown",
   "metadata": {},
   "source": [
    "# 3. Construct Pytorch Input"
   ]
  },
  {
   "cell_type": "code",
   "execution_count": 12,
   "metadata": {},
   "outputs": [],
   "source": [
    "MAX_SENTENCE_LENGTH = 200\n",
    "\n",
    "# import numpy as np\n",
    "# import torch\n",
    "# from torch.utils.data import Dataset\n",
    "\n",
    "class IMDBDataset(Dataset):\n",
    "    \"\"\"\n",
    "    Class that represents a train/validation/test dataset that's readable for PyTorch\n",
    "    Note that this class inherits torch.utils.data.Dataset\n",
    "    \"\"\"\n",
    "    \n",
    "    def __init__(self, data_list, target_list):\n",
    "        \"\"\"\n",
    "        @param data_list: list of imdb tokens \n",
    "        @param target_list: list of imdb targets \n",
    "\n",
    "        \"\"\"\n",
    "        self.data_list = data_list\n",
    "        self.target_list = target_list\n",
    "        assert (len(self.data_list) == len(self.target_list))\n",
    "\n",
    "    def __len__(self):\n",
    "        return len(self.data_list)\n",
    "        \n",
    "    def __getitem__(self, key):\n",
    "        \"\"\"\n",
    "        Triggered when you call dataset[i]\n",
    "        \"\"\"\n",
    "        \n",
    "        token_idx = self.data_list[key][:MAX_SENTENCE_LENGTH]\n",
    "        label = self.target_list[key]\n",
    "        return [token_idx, len(token_idx), label]\n",
    "\n",
    "def imdb_collate_func(batch):\n",
    "    \"\"\"\n",
    "    Customized function for DataLoader that dynamically pads the batch so that all \n",
    "    data have the same length\n",
    "    \"\"\"\n",
    "    data_list = []\n",
    "    label_list = []\n",
    "    length_list = []\n",
    "\n",
    "    for datum in batch:\n",
    "        label_list.append(datum[2])\n",
    "        length_list.append(datum[1])\n",
    "        \n",
    "    # padding\n",
    "    for datum in batch:\n",
    "        padded_vec = np.pad(np.array(datum[0]), \n",
    "                                pad_width=((0,MAX_SENTENCE_LENGTH-datum[1])), \n",
    "                                mode=\"constant\", constant_values=0)\n",
    "        data_list.append(padded_vec)\n",
    "    return [torch.from_numpy(np.array(data_list)), torch.LongTensor(length_list), torch.LongTensor(label_list)]\n",
    "\n",
    "# Create pytorch dataloader\n",
    "def IMDBDataloader(train_data_indices, val_data_indices, test_data_indices):\n",
    "    train_dataset = IMDBDataset(train_data_indices, train_targets)\n",
    "    train_loader = torch.utils.data.DataLoader(dataset=train_dataset, \n",
    "                                               batch_size=BATCH_SIZE,\n",
    "                                               collate_fn=imdb_collate_func,\n",
    "                                               shuffle=True)\n",
    "\n",
    "    val_dataset = IMDBDataset(val_data_indices, val_targets)\n",
    "    val_loader = torch.utils.data.DataLoader(dataset=val_dataset, \n",
    "                                               batch_size=BATCH_SIZE,\n",
    "                                               collate_fn=imdb_collate_func,\n",
    "                                               shuffle=True)\n",
    "\n",
    "    test_dataset = IMDBDataset(test_data_indices, test_targets)\n",
    "    test_loader = torch.utils.data.DataLoader(dataset=test_dataset, \n",
    "                                               batch_size=BATCH_SIZE,\n",
    "                                               collate_fn=imdb_collate_func,\n",
    "                                               shuffle=False)\n",
    "    return train_loader, val_loader, test_loader"
   ]
  },
  {
   "cell_type": "markdown",
   "metadata": {},
   "source": [
    "# 4. Build Model"
   ]
  },
  {
   "cell_type": "code",
   "execution_count": 13,
   "metadata": {},
   "outputs": [],
   "source": [
    "# # First import torch related libraries\n",
    "# import torch\n",
    "# import torch.nn as nn\n",
    "# import torch.nn.functional as F\n",
    "\n",
    "class BagOfWords(nn.Module):\n",
    "    \"\"\"\n",
    "    BagOfWords classification model\n",
    "    \"\"\"\n",
    "    def __init__(self, vocab_size, emb_dim):\n",
    "        \"\"\"\n",
    "        @param vocab_size: size of the vocabulary. \n",
    "        @param emb_dim: size of the word embedding\n",
    "        \"\"\"\n",
    "        super(BagOfWords, self).__init__()\n",
    "        # pay attention to padding_idx \n",
    "        self.embed = nn.Embedding(vocab_size, emb_dim, padding_idx=0)\n",
    "        self.linear = nn.Linear(emb_dim,20)\n",
    "    \n",
    "    def forward(self, data, length):\n",
    "        \"\"\"\n",
    "        \n",
    "        @param data: matrix of size (batch_size, max_sentence_length). Each row in data represents a \n",
    "            review that is represented using n-gram index. Note that they are padded to have same length.\n",
    "        @param length: an int tensor of size (batch_size), which represents the non-trivial (excludes padding)\n",
    "            length of each sentences in the data.\n",
    "        \"\"\"\n",
    "        out = self.embed(data)\n",
    "        out = torch.sum(out, dim=1)\n",
    "        out /= length.view(length.size()[0],1).expand_as(out).float()\n",
    "     \n",
    "        # return logits\n",
    "        out = self.linear(out.float())\n",
    "        return out"
   ]
  },
  {
   "cell_type": "code",
   "execution_count": 18,
   "metadata": {},
   "outputs": [
    {
     "name": "stdout",
     "output_type": "stream",
     "text": [
      "1gram tokens data:\n",
      "Train dataset size is 20000\n",
      "Val dataset size is 5000\n",
      "Test dataset size is 25000\n",
      "Total number of tokens in train dataset is 4814527\n"
     ]
    }
   ],
   "source": [
    "#processes token dataset to indices dataset\n",
    "train_data_indices, val_data_indices, test_data_indices = process_token_dataset(ngram_n, max_vocab_size)\n",
    "#load token indices to fit pytorch input\n",
    "train_loader, val_loader, test_loader = IMDBDataloader(train_data_indices, val_data_indices, test_data_indices)\n"
   ]
  },
  {
   "cell_type": "code",
   "execution_count": 22,
   "metadata": {},
   "outputs": [],
   "source": [
    "#initialize model\n",
    "model = BagOfWords(max_vocab_size+2, emb_dim)"
   ]
  },
  {
   "cell_type": "markdown",
   "metadata": {},
   "source": [
    "# 5. Define loss function and optimizer"
   ]
  },
  {
   "cell_type": "code",
   "execution_count": 23,
   "metadata": {},
   "outputs": [],
   "source": [
    "# Criterion and Optimizer\n",
    "criterion = torch.nn.CrossEntropyLoss()  \n",
    "optimizer = torch.optim.Adam(model.parameters(), lr=learning_rate)"
   ]
  },
  {
   "cell_type": "markdown",
   "metadata": {},
   "source": [
    "# 5. Train and test model"
   ]
  },
  {
   "cell_type": "code",
   "execution_count": 24,
   "metadata": {
    "scrolled": true
   },
   "outputs": [
    {
     "name": "stdout",
     "output_type": "stream",
     "text": [
      "Epoch: [1/10], Step: [128/625], Loss: 0.6029595136642456, Validation Acc:73.36\n",
      "Epoch: [1/10], Step: [256/625], Loss: 0.45438313484191895, Validation Acc:80.7\n",
      "Epoch: [1/10], Step: [384/625], Loss: 0.40095508098602295, Validation Acc:81.3\n",
      "Epoch: [1/10], Step: [512/625], Loss: 0.39209234714508057, Validation Acc:82.56\n",
      "Epoch: [2/10], Step: [128/625], Loss: 0.3737766146659851, Validation Acc:83.14\n",
      "Epoch: [2/10], Step: [256/625], Loss: 0.2740996479988098, Validation Acc:83.36\n",
      "Epoch: [2/10], Step: [384/625], Loss: 0.291684627532959, Validation Acc:80.62\n",
      "Epoch: [2/10], Step: [512/625], Loss: 0.3601437211036682, Validation Acc:83.22\n",
      "Epoch: [3/10], Step: [128/625], Loss: 0.5429695248603821, Validation Acc:83.36\n",
      "Epoch: [3/10], Step: [256/625], Loss: 0.40460580587387085, Validation Acc:82.56\n",
      "Epoch: [3/10], Step: [384/625], Loss: 0.5192800760269165, Validation Acc:82.82\n",
      "Epoch: [3/10], Step: [512/625], Loss: 0.39592063426971436, Validation Acc:83.44\n",
      "Epoch: [4/10], Step: [128/625], Loss: 0.379781574010849, Validation Acc:83.26\n",
      "Epoch: [4/10], Step: [256/625], Loss: 0.35548996925354004, Validation Acc:83.16\n",
      "Epoch: [4/10], Step: [384/625], Loss: 0.4414646625518799, Validation Acc:83.12\n",
      "Epoch: [4/10], Step: [512/625], Loss: 0.17535097897052765, Validation Acc:82.7\n",
      "Epoch: [5/10], Step: [128/625], Loss: 0.2286270260810852, Validation Acc:83.44\n",
      "Epoch: [5/10], Step: [256/625], Loss: 0.26740697026252747, Validation Acc:83.1\n",
      "Epoch: [5/10], Step: [384/625], Loss: 0.3957458734512329, Validation Acc:83.26\n",
      "Epoch: [5/10], Step: [512/625], Loss: 0.36383289098739624, Validation Acc:83.06\n",
      "Epoch: [6/10], Step: [128/625], Loss: 0.2244008481502533, Validation Acc:79.86\n",
      "Epoch: [6/10], Step: [256/625], Loss: 0.34710487723350525, Validation Acc:82.9\n",
      "Epoch: [6/10], Step: [384/625], Loss: 0.41469305753707886, Validation Acc:83.68\n",
      "Epoch: [6/10], Step: [512/625], Loss: 0.5006405115127563, Validation Acc:82.88\n",
      "Epoch: [7/10], Step: [128/625], Loss: 0.2752039134502411, Validation Acc:82.86\n",
      "Epoch: [7/10], Step: [256/625], Loss: 0.2488567978143692, Validation Acc:83.2\n",
      "Epoch: [7/10], Step: [384/625], Loss: 0.34163305163383484, Validation Acc:83.12\n",
      "Epoch: [7/10], Step: [512/625], Loss: 0.40968459844589233, Validation Acc:83.22\n",
      "Epoch: [8/10], Step: [128/625], Loss: 0.21379223465919495, Validation Acc:82.42\n",
      "Epoch: [8/10], Step: [256/625], Loss: 0.3264964818954468, Validation Acc:83.36\n",
      "Epoch: [8/10], Step: [384/625], Loss: 0.14964967966079712, Validation Acc:83.52\n",
      "Epoch: [8/10], Step: [512/625], Loss: 0.3211607336997986, Validation Acc:83.14\n",
      "Epoch: [9/10], Step: [128/625], Loss: 0.519040584564209, Validation Acc:83.2\n",
      "Epoch: [9/10], Step: [256/625], Loss: 0.20298750698566437, Validation Acc:83.18\n",
      "Epoch: [9/10], Step: [384/625], Loss: 0.4620971083641052, Validation Acc:83.5\n",
      "Epoch: [9/10], Step: [512/625], Loss: 0.38601893186569214, Validation Acc:81.88\n",
      "Epoch: [10/10], Step: [128/625], Loss: 0.43936479091644287, Validation Acc:83.18\n",
      "Epoch: [10/10], Step: [256/625], Loss: 0.2641706168651581, Validation Acc:83.14\n",
      "Epoch: [10/10], Step: [384/625], Loss: 0.25331583619117737, Validation Acc:82.66\n",
      "Epoch: [10/10], Step: [512/625], Loss: 0.37085554003715515, Validation Acc:83.4\n"
     ]
    }
   ],
   "source": [
    "# Function for testing the model\n",
    "def test_model(loader, model):\n",
    "    \"\"\"\n",
    "    Help function that tests the model's performance on a dataset\n",
    "    @param: loader - data loader for the dataset to test against\n",
    "    \"\"\"\n",
    "    correct = 0\n",
    "    total = 0\n",
    "    model.eval()\n",
    "    for data, lengths, labels in loader:\n",
    "        data_batch, length_batch, label_batch = data, lengths, labels\n",
    "        outputs = F.softmax(model(data_batch, length_batch), dim=1)\n",
    "        \n",
    "        #get the index of the max\n",
    "        predicted = outputs.max(1, keepdim=True)[1]\n",
    "     \n",
    "        total += labels.size(0)\n",
    "        correct += predicted.eq(labels.view_as(predicted)).sum().item()\n",
    "        \n",
    "    return (100 * correct / total)\n",
    "\n",
    "def early_stop(val_acc_history, t=2, required_progress=0.01):\n",
    "    if len(val_acc_history) > t:\n",
    "        if val_acc_history[-1] - val_acc_history[-1-t] <= required_progress:\n",
    "            return True\n",
    "    return False\n",
    "\n",
    "# Training the model\n",
    "val_acc_history = []\n",
    "train_acc_history = []\n",
    "train_loss_history = []\n",
    "\n",
    "for epoch in range(num_epochs):\n",
    "    for i, (data, lengths, labels) in enumerate(train_loader):\n",
    "        model.train()\n",
    "        data_batch, length_batch, label_batch = data, lengths, labels\n",
    "        optimizer.zero_grad()\n",
    "        outputs = model(data_batch, length_batch)\n",
    "        loss = criterion(outputs, label_batch)\n",
    "        loss.backward()\n",
    "        optimizer.step()\n",
    "        \n",
    "        # report performance\n",
    "        if (i+1) % (BATCH_SIZE*4) == 0:\n",
    "            train_acc = test_model(train_loader, model)\n",
    "            val_acc = test_model(val_loader, model)\n",
    "            val_acc_history.append(val_acc)\n",
    "            train_acc_history.append(train_acc)\n",
    "            train_loss_history.append(loss.item())\n",
    "            \n",
    "            print('Epoch: [{0}/{1}], Step: [{2}/{3}], Loss: {4}, Validation Acc:{5}'.format( \n",
    "                   epoch+1, num_epochs, i+1, len(train_loader), loss.item(),val_acc))\n",
    "            \n",
    "#             # check if we need early stopping\n",
    "#             stop = early_stop(val_acc_history)\n",
    "#             if stop:\n",
    "#                 print(\"early stop triggered\")\n",
    "#                 break\n",
    "\n",
    "#     if stop:\n",
    "#         break"
   ]
  },
  {
   "cell_type": "code",
   "execution_count": 25,
   "metadata": {},
   "outputs": [
    {
     "name": "stdout",
     "output_type": "stream",
     "text": [
      "Val Acc 83.42\n"
     ]
    }
   ],
   "source": [
    "print (\"Val Acc {}\".format(test_model(val_loader, model)))"
   ]
  },
  {
   "cell_type": "code",
   "execution_count": 26,
   "metadata": {},
   "outputs": [
    {
     "data": {
      "image/png": "[encoded data removed]",
      "text/plain": [
       "<Figure size 432x288 with 1 Axes>"
      ]
     },
     "metadata": {
      "needs_background": "light"
     },
     "output_type": "display_data"
    }
   ],
   "source": [
    "import matplotlib.pyplot as plt\n",
    "plt.plot(train_acc_history,label = 'training accuracy')\n",
    "plt.plot(val_acc_history,label = 'validation accuracy')\n",
    "plt.ylabel('Accuracy')\n",
    "plt.xlabel('Training size')\n",
    "plt.legend()\n",
    "plt.savefig('train_val_acc_10epoch.png')"
   ]
  },
  {
   "cell_type": "code",
   "execution_count": 27,
   "metadata": {},
   "outputs": [
    {
     "data": {
      "image/png": "[encoded data removed]",
      "text/plain": [
       "<Figure size 432x288 with 1 Axes>"
      ]
     },
     "metadata": {
      "needs_background": "light"
     },
     "output_type": "display_data"
    }
   ],
   "source": [
    "import matplotlib.pyplot as plt\n",
    "plt.plot( train_loss_history,label = 'training loss')\n",
    "plt.xlabel('Training size')\n",
    "plt.ylabel('Loss')\n",
    "plt.legend()\n",
    "plt.savefig('train_val_loss_10epoch.png')"
   ]
  },
  {
   "cell_type": "markdown",
   "metadata": {},
   "source": [
    "Seen from the graph, to prevent overfitting, we set num_epochs to be 6"
   ]
  },
  {
   "cell_type": "markdown",
   "metadata": {},
   "source": [
    "# 6. Parameter Tunning"
   ]
  },
  {
   "cell_type": "markdown",
   "metadata": {},
   "source": [
    "### 1). N grams"
   ]
  },
  {
   "cell_type": "code",
   "execution_count": 35,
   "metadata": {},
   "outputs": [
    {
     "name": "stdout",
     "output_type": "stream",
     "text": [
      "1gram tokens data:\n",
      "Train dataset size is 20000\n",
      "Val dataset size is 5000\n",
      "Test dataset size is 25000\n",
      "Total number of tokens in train dataset is 4814527\n",
      "Epoch: [1/6], Step: [128/625], Loss: 0.5054467916488647, Validation Acc:74.98\n",
      "Epoch: [1/6], Step: [256/625], Loss: 0.5069160461425781, Validation Acc:80.6\n",
      "Epoch: [1/6], Step: [384/625], Loss: 0.36976248025894165, Validation Acc:81.94\n",
      "Epoch: [1/6], Step: [512/625], Loss: 0.2788888216018677, Validation Acc:82.64\n",
      "Epoch: [2/6], Step: [128/625], Loss: 0.28222596645355225, Validation Acc:82.74\n",
      "Epoch: [2/6], Step: [256/625], Loss: 0.33014559745788574, Validation Acc:82.64\n",
      "Epoch: [2/6], Step: [384/625], Loss: 0.28391581773757935, Validation Acc:83.24\n",
      "Epoch: [2/6], Step: [512/625], Loss: 0.38108015060424805, Validation Acc:83.28\n",
      "Epoch: [3/6], Step: [128/625], Loss: 0.3927600383758545, Validation Acc:82.98\n",
      "Epoch: [3/6], Step: [256/625], Loss: 0.20573891699314117, Validation Acc:82.92\n",
      "Epoch: [3/6], Step: [384/625], Loss: 0.33640074729919434, Validation Acc:83.32\n",
      "Epoch: [3/6], Step: [512/625], Loss: 0.4641968011856079, Validation Acc:83.38\n",
      "Epoch: [4/6], Step: [128/625], Loss: 0.3423779606819153, Validation Acc:82.62\n",
      "Epoch: [4/6], Step: [256/625], Loss: 0.35877782106399536, Validation Acc:83.18\n",
      "Epoch: [4/6], Step: [384/625], Loss: 0.46761104464530945, Validation Acc:83.14\n",
      "Epoch: [4/6], Step: [512/625], Loss: 0.25548267364501953, Validation Acc:83.18\n",
      "Epoch: [5/6], Step: [128/625], Loss: 0.22982069849967957, Validation Acc:84.02\n",
      "Epoch: [5/6], Step: [256/625], Loss: 0.3467678129673004, Validation Acc:83.0\n",
      "Epoch: [5/6], Step: [384/625], Loss: 0.317329466342926, Validation Acc:82.58\n",
      "Epoch: [5/6], Step: [512/625], Loss: 0.4416463375091553, Validation Acc:82.1\n",
      "Epoch: [6/6], Step: [128/625], Loss: 0.27600061893463135, Validation Acc:83.04\n",
      "Epoch: [6/6], Step: [256/625], Loss: 0.5712621212005615, Validation Acc:82.28\n",
      "Epoch: [6/6], Step: [384/625], Loss: 0.2365846037864685, Validation Acc:83.42\n",
      "Epoch: [6/6], Step: [512/625], Loss: 0.36854735016822815, Validation Acc:82.02\n",
      "2gram tokens data:\n",
      "Train dataset size is 20000\n",
      "Val dataset size is 5000\n",
      "Test dataset size is 25000\n",
      "Total number of tokens in train dataset is 4794527\n",
      "Epoch: [1/6], Step: [128/625], Loss: 0.6519435048103333, Validation Acc:67.7\n",
      "Epoch: [1/6], Step: [256/625], Loss: 0.6675061583518982, Validation Acc:73.44\n",
      "Epoch: [1/6], Step: [384/625], Loss: 0.41956955194473267, Validation Acc:73.7\n",
      "Epoch: [1/6], Step: [512/625], Loss: 0.47881078720092773, Validation Acc:75.08\n",
      "Epoch: [2/6], Step: [128/625], Loss: 0.5321544408798218, Validation Acc:75.1\n",
      "Epoch: [2/6], Step: [256/625], Loss: 0.6217925548553467, Validation Acc:75.62\n",
      "Epoch: [2/6], Step: [384/625], Loss: 0.5329548120498657, Validation Acc:74.16\n",
      "Epoch: [2/6], Step: [512/625], Loss: 0.4735214114189148, Validation Acc:75.44\n",
      "Epoch: [3/6], Step: [128/625], Loss: 0.5559582710266113, Validation Acc:73.48\n",
      "Epoch: [3/6], Step: [256/625], Loss: 0.36514192819595337, Validation Acc:74.98\n",
      "Epoch: [3/6], Step: [384/625], Loss: 0.3650108575820923, Validation Acc:75.0\n",
      "Epoch: [3/6], Step: [512/625], Loss: 0.4369475245475769, Validation Acc:74.48\n",
      "Epoch: [4/6], Step: [128/625], Loss: 0.5262820720672607, Validation Acc:75.94\n",
      "Epoch: [4/6], Step: [256/625], Loss: 0.4702306091785431, Validation Acc:75.58\n",
      "Epoch: [4/6], Step: [384/625], Loss: 0.6311463117599487, Validation Acc:74.92\n",
      "Epoch: [4/6], Step: [512/625], Loss: 0.47333770990371704, Validation Acc:75.28\n",
      "Epoch: [5/6], Step: [128/625], Loss: 0.5860292911529541, Validation Acc:75.48\n",
      "Epoch: [5/6], Step: [256/625], Loss: 0.5247611403465271, Validation Acc:75.06\n",
      "Epoch: [5/6], Step: [384/625], Loss: 0.492621511220932, Validation Acc:74.86\n",
      "Epoch: [5/6], Step: [512/625], Loss: 0.4837123453617096, Validation Acc:74.26\n",
      "Epoch: [6/6], Step: [128/625], Loss: 0.32777804136276245, Validation Acc:75.1\n",
      "Epoch: [6/6], Step: [256/625], Loss: 0.4831673204898834, Validation Acc:74.6\n",
      "Epoch: [6/6], Step: [384/625], Loss: 0.38609880208969116, Validation Acc:75.24\n",
      "Epoch: [6/6], Step: [512/625], Loss: 0.6385986804962158, Validation Acc:75.26\n",
      "3gram tokens data:\n",
      "Train dataset size is 20000\n",
      "Val dataset size is 5000\n",
      "Test dataset size is 25000\n",
      "Total number of tokens in train dataset is 4774527\n",
      "Epoch: [1/6], Step: [128/625], Loss: 0.6653345227241516, Validation Acc:49.98\n",
      "Epoch: [1/6], Step: [256/625], Loss: 0.7159645557403564, Validation Acc:57.24\n",
      "Epoch: [1/6], Step: [384/625], Loss: 0.5478348731994629, Validation Acc:63.62\n",
      "Epoch: [1/6], Step: [512/625], Loss: 0.645363986492157, Validation Acc:62.38\n",
      "Epoch: [2/6], Step: [128/625], Loss: 0.49856942892074585, Validation Acc:65.54\n",
      "Epoch: [2/6], Step: [256/625], Loss: 0.5607179403305054, Validation Acc:68.9\n",
      "Epoch: [2/6], Step: [384/625], Loss: 0.44012346863746643, Validation Acc:68.14\n",
      "Epoch: [2/6], Step: [512/625], Loss: 0.5917164087295532, Validation Acc:67.64\n",
      "Epoch: [3/6], Step: [128/625], Loss: 0.5747168660163879, Validation Acc:67.2\n",
      "Epoch: [3/6], Step: [256/625], Loss: 0.43540915846824646, Validation Acc:68.54\n",
      "Epoch: [3/6], Step: [384/625], Loss: 0.6512279510498047, Validation Acc:69.02\n",
      "Epoch: [3/6], Step: [512/625], Loss: 0.5026677846908569, Validation Acc:68.54\n",
      "Epoch: [4/6], Step: [128/625], Loss: 0.6707584261894226, Validation Acc:68.4\n",
      "Epoch: [4/6], Step: [256/625], Loss: 0.47754091024398804, Validation Acc:64.34\n",
      "Epoch: [4/6], Step: [384/625], Loss: 0.4234684109687805, Validation Acc:64.16\n",
      "Epoch: [4/6], Step: [512/625], Loss: 0.5262659192085266, Validation Acc:68.46\n",
      "Epoch: [5/6], Step: [128/625], Loss: 0.5633776783943176, Validation Acc:69.0\n",
      "Epoch: [5/6], Step: [256/625], Loss: 0.6897005438804626, Validation Acc:66.22\n",
      "Epoch: [5/6], Step: [384/625], Loss: 0.4943770170211792, Validation Acc:69.08\n",
      "Epoch: [5/6], Step: [512/625], Loss: 0.5030719041824341, Validation Acc:68.06\n",
      "Epoch: [6/6], Step: [128/625], Loss: 0.4544706344604492, Validation Acc:68.34\n",
      "Epoch: [6/6], Step: [256/625], Loss: 0.580721914768219, Validation Acc:66.92\n",
      "Epoch: [6/6], Step: [384/625], Loss: 0.5690540075302124, Validation Acc:68.82\n",
      "Epoch: [6/6], Step: [512/625], Loss: 0.4387781023979187, Validation Acc:69.34\n",
      "4gram tokens data:\n",
      "Train dataset size is 20000\n",
      "Val dataset size is 5000\n",
      "Test dataset size is 25000\n",
      "Total number of tokens in train dataset is 4754527\n",
      "Epoch: [1/6], Step: [128/625], Loss: 0.6659151315689087, Validation Acc:50.08\n",
      "Epoch: [1/6], Step: [256/625], Loss: 0.7250170111656189, Validation Acc:51.28\n",
      "Epoch: [1/6], Step: [384/625], Loss: 0.6276389956474304, Validation Acc:62.94\n",
      "Epoch: [1/6], Step: [512/625], Loss: 0.6439993381500244, Validation Acc:56.52\n",
      "Epoch: [2/6], Step: [128/625], Loss: 0.569524884223938, Validation Acc:58.26\n",
      "Epoch: [2/6], Step: [256/625], Loss: 0.5771439671516418, Validation Acc:64.78\n",
      "Epoch: [2/6], Step: [384/625], Loss: 0.644160270690918, Validation Acc:60.52\n",
      "Epoch: [2/6], Step: [512/625], Loss: 0.642392098903656, Validation Acc:63.0\n",
      "Epoch: [3/6], Step: [128/625], Loss: 0.6813543438911438, Validation Acc:64.82\n",
      "Epoch: [3/6], Step: [256/625], Loss: 0.5755366086959839, Validation Acc:61.9\n",
      "Epoch: [3/6], Step: [384/625], Loss: 0.5378686189651489, Validation Acc:60.48\n",
      "Epoch: [3/6], Step: [512/625], Loss: 0.5780876278877258, Validation Acc:61.5\n",
      "Epoch: [4/6], Step: [128/625], Loss: 0.6148121356964111, Validation Acc:58.84\n",
      "Epoch: [4/6], Step: [256/625], Loss: 0.5681103467941284, Validation Acc:63.62\n",
      "Epoch: [4/6], Step: [384/625], Loss: 0.5875709056854248, Validation Acc:62.86\n",
      "Epoch: [4/6], Step: [512/625], Loss: 0.5713655948638916, Validation Acc:62.64\n",
      "Epoch: [5/6], Step: [128/625], Loss: 0.5094155669212341, Validation Acc:63.52\n",
      "Epoch: [5/6], Step: [256/625], Loss: 0.49600791931152344, Validation Acc:58.74\n",
      "Epoch: [5/6], Step: [384/625], Loss: 0.5035527944564819, Validation Acc:62.46\n",
      "Epoch: [5/6], Step: [512/625], Loss: 0.6450666189193726, Validation Acc:61.1\n",
      "Epoch: [6/6], Step: [128/625], Loss: 0.5410032868385315, Validation Acc:63.42\n",
      "Epoch: [6/6], Step: [256/625], Loss: 0.43922096490859985, Validation Acc:62.08\n",
      "Epoch: [6/6], Step: [384/625], Loss: 0.5233460068702698, Validation Acc:63.96\n",
      "Epoch: [6/6], Step: [512/625], Loss: 0.5050209164619446, Validation Acc:62.16\n"
     ]
    },
    {
     "data": {
      "image/png": "[encoded data removed]",
      "text/plain": [
       "<Figure size 432x288 with 1 Axes>"
      ]
     },
     "metadata": {
      "needs_background": "light"
     },
     "output_type": "display_data"
    }
   ],
   "source": [
    "# hyperparameters that remain unchanged\n",
    "max_vocab_size=1000 \n",
    "num_epochs = 6\n",
    "learning_rate = 0.01\n",
    "emb_dim = 100\n",
    "BATCH_SIZE = 32\n",
    "\n",
    "#changed parameters\n",
    "# ngrams_n\n",
    "\n",
    "ngram_results = []\n",
    "for n in range(4): \n",
    "    ngram_n = n+1\n",
    "    #processes token dataset to indices dataset\n",
    "    train_data_indices, val_data_indices, test_data_indices = process_token_dataset(ngram_n, max_vocab_size)\n",
    "    #load token indices to fit pytorch input\n",
    "    train_loader, val_loader, test_loader = IMDBDataloader(train_data_indices, val_data_indices, test_data_indices)\n",
    "    #initialize model\n",
    "    model = BagOfWords(max_vocab_size+2, emb_dim)\n",
    "    \n",
    "    # Criterion and Optimizer\n",
    "    criterion = torch.nn.CrossEntropyLoss()  \n",
    "    optimizer = torch.optim.Adam(model.parameters(), lr=learning_rate)\n",
    "\n",
    "    # Training the model\n",
    "    val_acc_history = []\n",
    "\n",
    "    for epoch in range(num_epochs):\n",
    "        for i, (data, lengths, labels) in enumerate(train_loader):\n",
    "            model.train()\n",
    "            data_batch, length_batch, label_batch = data, lengths, labels\n",
    "            optimizer.zero_grad()\n",
    "            outputs = model(data_batch, length_batch)\n",
    "            loss = criterion(outputs, label_batch)\n",
    "            loss.backward()\n",
    "            optimizer.step()\n",
    "\n",
    "            # report performance\n",
    "            if (i+1) % (BATCH_SIZE*4) == 0:\n",
    "                \n",
    "                val_acc = test_model(val_loader, model)\n",
    "                val_acc_history.append(val_acc)\n",
    "                \n",
    "                print('Epoch: [{0}/{1}], Step: [{2}/{3}], Loss: {4}, Validation Acc:{5}'.format( \n",
    "                       epoch+1, num_epochs, i+1, len(train_loader), loss.item(),val_acc))\n",
    "\n",
    "    ngram_results.append(val_acc_history)\n",
    "    \n",
    "for i in range(4):\n",
    "    plt.plot(ngram_results[i],label= str(i+1)+'gram')\n",
    "    plt.ylabel('Validation accuracy')\n",
    "    plt.xlabel('Training size')\n",
    "    plt.legend()\n",
    "    plt.savefig('val_acc_ngram.png')"
   ]
  },
  {
   "cell_type": "markdown",
   "metadata": {},
   "source": [
    "Seen from the graph above, the validation accuracy of 1gram tokens are best. Thus we choose 1gram in the following tunning process."
   ]
  },
  {
   "cell_type": "markdown",
   "metadata": {},
   "source": [
    "### 2) Vocabulary size"
   ]
  },
  {
   "cell_type": "code",
   "execution_count": 47,
   "metadata": {},
   "outputs": [
    {
     "name": "stdout",
     "output_type": "stream",
     "text": [
      "max vocab size: 500\n",
      "1gram tokens data:\n",
      "Train dataset size is 20000\n",
      "Val dataset size is 5000\n",
      "Test dataset size is 25000\n",
      "Total number of tokens in train dataset is 4814527\n",
      "Epoch: [1/6], Step: [128/625], Loss: 0.5742093324661255, Validation Acc:71.5\n",
      "Epoch: [1/6], Step: [256/625], Loss: 0.35385191440582275, Validation Acc:78.52\n",
      "Epoch: [1/6], Step: [384/625], Loss: 0.2912500500679016, Validation Acc:78.66\n",
      "Epoch: [1/6], Step: [512/625], Loss: 0.3923952579498291, Validation Acc:78.96\n",
      "Epoch: [2/6], Step: [128/625], Loss: 0.4246986508369446, Validation Acc:78.9\n",
      "Epoch: [2/6], Step: [256/625], Loss: 0.3231949806213379, Validation Acc:78.58\n",
      "Epoch: [2/6], Step: [384/625], Loss: 0.4381004571914673, Validation Acc:80.5\n",
      "Epoch: [2/6], Step: [512/625], Loss: 0.5469708442687988, Validation Acc:78.14\n",
      "Epoch: [3/6], Step: [128/625], Loss: 0.4802470803260803, Validation Acc:80.08\n",
      "Epoch: [3/6], Step: [256/625], Loss: 0.39400506019592285, Validation Acc:80.14\n",
      "Epoch: [3/6], Step: [384/625], Loss: 0.36179643869400024, Validation Acc:78.32\n",
      "Epoch: [3/6], Step: [512/625], Loss: 0.5533691644668579, Validation Acc:80.7\n",
      "Epoch: [4/6], Step: [128/625], Loss: 0.40096914768218994, Validation Acc:80.78\n",
      "Epoch: [4/6], Step: [256/625], Loss: 0.678886890411377, Validation Acc:80.4\n",
      "Epoch: [4/6], Step: [384/625], Loss: 0.45066210627555847, Validation Acc:79.98\n",
      "Epoch: [4/6], Step: [512/625], Loss: 0.36287665367126465, Validation Acc:80.58\n",
      "Epoch: [5/6], Step: [128/625], Loss: 0.6846593618392944, Validation Acc:79.98\n",
      "Epoch: [5/6], Step: [256/625], Loss: 0.41223978996276855, Validation Acc:80.2\n",
      "Epoch: [5/6], Step: [384/625], Loss: 0.26463115215301514, Validation Acc:79.74\n",
      "Epoch: [5/6], Step: [512/625], Loss: 0.4748787581920624, Validation Acc:80.74\n",
      "Epoch: [6/6], Step: [128/625], Loss: 0.5085674524307251, Validation Acc:80.24\n",
      "Epoch: [6/6], Step: [256/625], Loss: 0.5385886430740356, Validation Acc:80.62\n",
      "Epoch: [6/6], Step: [384/625], Loss: 0.43813586235046387, Validation Acc:80.06\n",
      "Epoch: [6/6], Step: [512/625], Loss: 0.2856013774871826, Validation Acc:80.14\n",
      "max vocab size: 1000\n",
      "1gram tokens data:\n",
      "Train dataset size is 20000\n",
      "Val dataset size is 5000\n",
      "Test dataset size is 25000\n",
      "Total number of tokens in train dataset is 4814527\n",
      "Epoch: [1/6], Step: [128/625], Loss: 0.37070512771606445, Validation Acc:76.62\n",
      "Epoch: [1/6], Step: [256/625], Loss: 0.35361963510513306, Validation Acc:81.06\n",
      "Epoch: [1/6], Step: [384/625], Loss: 0.44976985454559326, Validation Acc:82.12\n",
      "Epoch: [1/6], Step: [512/625], Loss: 0.422136127948761, Validation Acc:82.48\n",
      "Epoch: [2/6], Step: [128/625], Loss: 0.32285624742507935, Validation Acc:83.24\n",
      "Epoch: [2/6], Step: [256/625], Loss: 0.3712494373321533, Validation Acc:81.7\n",
      "Epoch: [2/6], Step: [384/625], Loss: 0.4176608622074127, Validation Acc:81.82\n",
      "Epoch: [2/6], Step: [512/625], Loss: 0.28438982367515564, Validation Acc:83.04\n",
      "Epoch: [3/6], Step: [128/625], Loss: 0.297967791557312, Validation Acc:82.46\n",
      "Epoch: [3/6], Step: [256/625], Loss: 0.3368298411369324, Validation Acc:81.68\n",
      "Epoch: [3/6], Step: [384/625], Loss: 0.4804130494594574, Validation Acc:82.02\n",
      "Epoch: [3/6], Step: [512/625], Loss: 0.5389467477798462, Validation Acc:82.8\n",
      "Epoch: [4/6], Step: [128/625], Loss: 0.3862403631210327, Validation Acc:83.08\n",
      "Epoch: [4/6], Step: [256/625], Loss: 0.37746602296829224, Validation Acc:83.36\n",
      "Epoch: [4/6], Step: [384/625], Loss: 0.24487411975860596, Validation Acc:83.48\n",
      "Epoch: [4/6], Step: [512/625], Loss: 0.24808326363563538, Validation Acc:83.36\n",
      "Epoch: [5/6], Step: [128/625], Loss: 0.19978921115398407, Validation Acc:83.12\n",
      "Epoch: [5/6], Step: [256/625], Loss: 0.26758819818496704, Validation Acc:82.98\n",
      "Epoch: [5/6], Step: [384/625], Loss: 0.2817379832267761, Validation Acc:83.26\n",
      "Epoch: [5/6], Step: [512/625], Loss: 0.2840491533279419, Validation Acc:83.46\n",
      "Epoch: [6/6], Step: [128/625], Loss: 0.38273221254348755, Validation Acc:83.48\n",
      "Epoch: [6/6], Step: [256/625], Loss: 0.30696022510528564, Validation Acc:83.38\n",
      "Epoch: [6/6], Step: [384/625], Loss: 0.21968066692352295, Validation Acc:83.68\n",
      "Epoch: [6/6], Step: [512/625], Loss: 0.2664125859737396, Validation Acc:83.44\n",
      "max vocab size: 5000\n",
      "1gram tokens data:\n",
      "Train dataset size is 20000\n",
      "Val dataset size is 5000\n",
      "Test dataset size is 25000\n",
      "Total number of tokens in train dataset is 4814527\n",
      "Epoch: [1/6], Step: [128/625], Loss: 0.4846508502960205, Validation Acc:78.68\n",
      "Epoch: [1/6], Step: [256/625], Loss: 0.3422726094722748, Validation Acc:83.92\n",
      "Epoch: [1/6], Step: [384/625], Loss: 0.46801674365997314, Validation Acc:84.54\n",
      "Epoch: [1/6], Step: [512/625], Loss: 0.3402460217475891, Validation Acc:85.96\n",
      "Epoch: [2/6], Step: [128/625], Loss: 0.19938865303993225, Validation Acc:86.48\n",
      "Epoch: [2/6], Step: [256/625], Loss: 0.26281625032424927, Validation Acc:86.5\n",
      "Epoch: [2/6], Step: [384/625], Loss: 0.21200193464756012, Validation Acc:86.04\n",
      "Epoch: [2/6], Step: [512/625], Loss: 0.22056099772453308, Validation Acc:85.34\n",
      "Epoch: [3/6], Step: [128/625], Loss: 0.5111544132232666, Validation Acc:85.98\n",
      "Epoch: [3/6], Step: [256/625], Loss: 0.21050061285495758, Validation Acc:85.68\n",
      "Epoch: [3/6], Step: [384/625], Loss: 0.42287570238113403, Validation Acc:85.82\n",
      "Epoch: [3/6], Step: [512/625], Loss: 0.2231634110212326, Validation Acc:85.84\n",
      "Epoch: [4/6], Step: [128/625], Loss: 0.19080334901809692, Validation Acc:85.34\n",
      "Epoch: [4/6], Step: [256/625], Loss: 0.22881349921226501, Validation Acc:85.18\n",
      "Epoch: [4/6], Step: [384/625], Loss: 0.23204708099365234, Validation Acc:83.66\n",
      "Epoch: [4/6], Step: [512/625], Loss: 0.3040728271007538, Validation Acc:84.5\n",
      "Epoch: [5/6], Step: [128/625], Loss: 0.13792496919631958, Validation Acc:83.18\n",
      "Epoch: [5/6], Step: [256/625], Loss: 0.152482271194458, Validation Acc:85.08\n",
      "Epoch: [5/6], Step: [384/625], Loss: 0.18651330471038818, Validation Acc:84.36\n",
      "Epoch: [5/6], Step: [512/625], Loss: 0.26811161637306213, Validation Acc:84.76\n",
      "Epoch: [6/6], Step: [128/625], Loss: 0.10276008397340775, Validation Acc:84.98\n",
      "Epoch: [6/6], Step: [256/625], Loss: 0.20187294483184814, Validation Acc:84.22\n",
      "Epoch: [6/6], Step: [384/625], Loss: 0.229642853140831, Validation Acc:84.72\n",
      "Epoch: [6/6], Step: [512/625], Loss: 0.1665651649236679, Validation Acc:84.24\n",
      "max vocab size: 10000\n",
      "1gram tokens data:\n",
      "Train dataset size is 20000\n",
      "Val dataset size is 5000\n",
      "Test dataset size is 25000\n",
      "Total number of tokens in train dataset is 4814527\n",
      "Epoch: [1/6], Step: [128/625], Loss: 0.4707779884338379, Validation Acc:78.88\n",
      "Epoch: [1/6], Step: [256/625], Loss: 0.16306345164775848, Validation Acc:84.66\n",
      "Epoch: [1/6], Step: [384/625], Loss: 0.255840003490448, Validation Acc:83.78\n",
      "Epoch: [1/6], Step: [512/625], Loss: 0.2802487909793854, Validation Acc:86.52\n",
      "Epoch: [2/6], Step: [128/625], Loss: 0.3236567974090576, Validation Acc:86.82\n",
      "Epoch: [2/6], Step: [256/625], Loss: 0.5213298797607422, Validation Acc:86.76\n",
      "Epoch: [2/6], Step: [384/625], Loss: 0.20997831225395203, Validation Acc:86.94\n",
      "Epoch: [2/6], Step: [512/625], Loss: 0.18427272140979767, Validation Acc:86.84\n",
      "Epoch: [3/6], Step: [128/625], Loss: 0.05151486396789551, Validation Acc:86.56\n",
      "Epoch: [3/6], Step: [256/625], Loss: 0.1563454121351242, Validation Acc:86.68\n",
      "Epoch: [3/6], Step: [384/625], Loss: 0.15769951045513153, Validation Acc:85.2\n",
      "Epoch: [3/6], Step: [512/625], Loss: 0.20300093293190002, Validation Acc:84.64\n",
      "Epoch: [4/6], Step: [128/625], Loss: 0.04395963251590729, Validation Acc:85.86\n",
      "Epoch: [4/6], Step: [256/625], Loss: 0.1102091372013092, Validation Acc:84.94\n",
      "Epoch: [4/6], Step: [384/625], Loss: 0.2675766944885254, Validation Acc:84.88\n",
      "Epoch: [4/6], Step: [512/625], Loss: 0.19482620060443878, Validation Acc:85.7\n",
      "Epoch: [5/6], Step: [128/625], Loss: 0.022016510367393494, Validation Acc:85.1\n",
      "Epoch: [5/6], Step: [256/625], Loss: 0.07957220077514648, Validation Acc:84.94\n",
      "Epoch: [5/6], Step: [384/625], Loss: 0.07188011705875397, Validation Acc:84.3\n",
      "Epoch: [5/6], Step: [512/625], Loss: 0.029812730848789215, Validation Acc:84.72\n",
      "Epoch: [6/6], Step: [128/625], Loss: 0.08426190912723541, Validation Acc:84.54\n",
      "Epoch: [6/6], Step: [256/625], Loss: 0.07963761687278748, Validation Acc:84.68\n",
      "Epoch: [6/6], Step: [384/625], Loss: 0.11749466508626938, Validation Acc:84.64\n",
      "Epoch: [6/6], Step: [512/625], Loss: 0.28514745831489563, Validation Acc:84.74\n"
     ]
    }
   ],
   "source": [
    "# unchanged hyperparameters\n",
    "learning_rate = 0.01\n",
    "emb_dim = 100\n",
    "BATCH_SIZE = 32\n",
    "ngram_n = 1\n",
    "num_epochs = 6\n",
    "\n",
    "#changed hyperparameters\n",
    "max_vocab_size_lst=[500,1000, 5000, 10000]\n",
    "\n",
    "#result_list\n",
    "vocab_size_results = []\n",
    "\n",
    "# Training the model\n",
    "\n",
    "val_acc_history = []\n",
    "# train_acc_history = []\n",
    "# train_loss_history = []\n",
    "\n",
    "for max_vocab_size in max_vocab_size_lst:\n",
    "    print('max vocab size: {}'.format(max_vocab_size))\n",
    "    #processes token dataset to indices dataset\n",
    "    train_data_indices, val_data_indices, test_data_indices = process_token_dataset(ngram_n, max_vocab_size)\n",
    "    #load token indices to fit pytorch input\n",
    "    train_loader, val_loader, test_loader = IMDBDataloader(train_data_indices, val_data_indices, test_data_indices)\n",
    "    #initialize model\n",
    "    model = BagOfWords(max_vocab_size+2, emb_dim)\n",
    "    \n",
    "    # Criterion and Optimizer\n",
    "    criterion = torch.nn.CrossEntropyLoss()  \n",
    "    optimizer = torch.optim.Adam(model.parameters(), lr=learning_rate)\n",
    "\n",
    "    # Training the model\n",
    "    val_acc_history = []\n",
    "\n",
    "    for epoch in range(num_epochs):\n",
    "        for i, (data, lengths, labels) in enumerate(train_loader):\n",
    "            model.train()\n",
    "            data_batch, length_batch, label_batch = data, lengths, labels\n",
    "            optimizer.zero_grad()\n",
    "            outputs = model(data_batch, length_batch)\n",
    "            loss = criterion(outputs, label_batch)\n",
    "            loss.backward()\n",
    "            optimizer.step()\n",
    "\n",
    "            # report performance\n",
    "            if (i+1) % (BATCH_SIZE*4) == 0:\n",
    "                \n",
    "                val_acc = test_model(val_loader, model)\n",
    "                val_acc_history.append(val_acc)\n",
    "                \n",
    "                print('Epoch: [{0}/{1}], Step: [{2}/{3}], Loss: {4}, Validation Acc:{5}'.format( \n",
    "                       epoch+1, num_epochs, i+1, len(train_loader), loss.item(),val_acc))\n",
    "\n",
    "    vocab_size_results.append(val_acc_history)"
   ]
  },
  {
   "cell_type": "code",
   "execution_count": 49,
   "metadata": {},
   "outputs": [
    {
     "data": {
      "image/png": "[encoded data removed]",
      "text/plain": [
       "<Figure size 432x288 with 1 Axes>"
      ]
     },
     "metadata": {
      "needs_background": "light"
     },
     "output_type": "display_data"
    }
   ],
   "source": [
    "for i in range(len(max_vocab_size_lst)):\n",
    "    plt.plot(vocab_size_results[i],label= str(max_vocab_size_lst[i]))\n",
    "    plt.ylabel('Validation accuracy')\n",
    "    plt.xlabel('Training size')\n",
    "    plt.title('max_vocab_size tunning')\n",
    "    plt.legend()\n",
    "    plt.savefig('val_acc_max_vocab_size.png')"
   ]
  },
  {
   "cell_type": "markdown",
   "metadata": {},
   "source": [
    " Choose max_vocab_size = 10000"
   ]
  },
  {
   "cell_type": "markdown",
   "metadata": {},
   "source": [
    "### 3) Embedding size"
   ]
  },
  {
   "cell_type": "code",
   "execution_count": 50,
   "metadata": {},
   "outputs": [
    {
     "name": "stdout",
     "output_type": "stream",
     "text": [
      "1gram tokens data:\n",
      "Train dataset size is 20000\n",
      "Val dataset size is 5000\n",
      "Test dataset size is 25000\n",
      "Total number of tokens in train dataset is 4814527\n",
      "Epoch: [1/6], Step: [128/625], Loss: 0.5877441167831421, Validation Acc:75.88\n",
      "Epoch: [1/6], Step: [256/625], Loss: 0.4939686059951782, Validation Acc:83.26\n",
      "Epoch: [1/6], Step: [384/625], Loss: 0.5403681993484497, Validation Acc:85.02\n",
      "Epoch: [1/6], Step: [512/625], Loss: 0.3066418170928955, Validation Acc:85.8\n",
      "Epoch: [2/6], Step: [128/625], Loss: 0.16994372010231018, Validation Acc:86.42\n",
      "Epoch: [2/6], Step: [256/625], Loss: 0.18622805178165436, Validation Acc:86.18\n",
      "Epoch: [2/6], Step: [384/625], Loss: 0.25709983706474304, Validation Acc:86.78\n",
      "Epoch: [2/6], Step: [512/625], Loss: 0.13586629927158356, Validation Acc:87.2\n",
      "Epoch: [3/6], Step: [128/625], Loss: 0.24920554459095, Validation Acc:86.66\n",
      "Epoch: [3/6], Step: [256/625], Loss: 0.06791529804468155, Validation Acc:86.56\n",
      "Epoch: [3/6], Step: [384/625], Loss: 0.12196056544780731, Validation Acc:86.42\n",
      "Epoch: [3/6], Step: [512/625], Loss: 0.08680325746536255, Validation Acc:86.22\n",
      "Epoch: [4/6], Step: [128/625], Loss: 0.0799047201871872, Validation Acc:86.44\n",
      "Epoch: [4/6], Step: [256/625], Loss: 0.2573232352733612, Validation Acc:85.34\n",
      "Epoch: [4/6], Step: [384/625], Loss: 0.34388941526412964, Validation Acc:85.12\n",
      "Epoch: [4/6], Step: [512/625], Loss: 0.18559274077415466, Validation Acc:85.06\n",
      "Epoch: [5/6], Step: [128/625], Loss: 0.09650295227766037, Validation Acc:85.64\n",
      "Epoch: [5/6], Step: [256/625], Loss: 0.056612834334373474, Validation Acc:85.24\n",
      "Epoch: [5/6], Step: [384/625], Loss: 0.1521473228931427, Validation Acc:85.12\n",
      "Epoch: [5/6], Step: [512/625], Loss: 0.07297240197658539, Validation Acc:85.38\n",
      "Epoch: [6/6], Step: [128/625], Loss: 0.07701040804386139, Validation Acc:84.98\n",
      "Epoch: [6/6], Step: [256/625], Loss: 0.02356693148612976, Validation Acc:84.68\n",
      "Epoch: [6/6], Step: [384/625], Loss: 0.01344001293182373, Validation Acc:84.76\n",
      "Epoch: [6/6], Step: [512/625], Loss: 0.17550039291381836, Validation Acc:84.3\n",
      "Val Acc 84.34\n",
      "1gram tokens data:\n",
      "Train dataset size is 20000\n",
      "Val dataset size is 5000\n",
      "Test dataset size is 25000\n",
      "Total number of tokens in train dataset is 4814527\n",
      "Epoch: [1/6], Step: [128/625], Loss: 0.5989570021629333, Validation Acc:78.82\n",
      "Epoch: [1/6], Step: [256/625], Loss: 0.2613581418991089, Validation Acc:84.46\n",
      "Epoch: [1/6], Step: [384/625], Loss: 0.31239429116249084, Validation Acc:84.8\n",
      "Epoch: [1/6], Step: [512/625], Loss: 0.2586272954940796, Validation Acc:87.14\n",
      "Epoch: [2/6], Step: [128/625], Loss: 0.2825811505317688, Validation Acc:86.84\n",
      "Epoch: [2/6], Step: [256/625], Loss: 0.2596096694469452, Validation Acc:86.84\n",
      "Epoch: [2/6], Step: [384/625], Loss: 0.13399054110050201, Validation Acc:86.58\n",
      "Epoch: [2/6], Step: [512/625], Loss: 0.20743562281131744, Validation Acc:86.8\n",
      "Epoch: [3/6], Step: [128/625], Loss: 0.11020558327436447, Validation Acc:86.34\n",
      "Epoch: [3/6], Step: [256/625], Loss: 0.3982847034931183, Validation Acc:85.84\n",
      "Epoch: [3/6], Step: [384/625], Loss: 0.1805689036846161, Validation Acc:86.2\n",
      "Epoch: [3/6], Step: [512/625], Loss: 0.382721483707428, Validation Acc:85.9\n",
      "Epoch: [4/6], Step: [128/625], Loss: 0.1765669584274292, Validation Acc:85.92\n",
      "Epoch: [4/6], Step: [256/625], Loss: 0.05047629028558731, Validation Acc:85.28\n",
      "Epoch: [4/6], Step: [384/625], Loss: 0.04959654062986374, Validation Acc:85.66\n",
      "Epoch: [4/6], Step: [512/625], Loss: 0.1454269289970398, Validation Acc:85.16\n",
      "Epoch: [5/6], Step: [128/625], Loss: 0.042153626680374146, Validation Acc:85.3\n",
      "Epoch: [5/6], Step: [256/625], Loss: 0.19300852715969086, Validation Acc:85.08\n",
      "Epoch: [5/6], Step: [384/625], Loss: 0.05899308621883392, Validation Acc:84.22\n",
      "Epoch: [5/6], Step: [512/625], Loss: 0.12236335873603821, Validation Acc:84.24\n",
      "Epoch: [6/6], Step: [128/625], Loss: 0.299096018075943, Validation Acc:84.38\n",
      "Epoch: [6/6], Step: [256/625], Loss: 0.0260658860206604, Validation Acc:84.38\n",
      "Epoch: [6/6], Step: [384/625], Loss: 0.14051905274391174, Validation Acc:84.08\n",
      "Epoch: [6/6], Step: [512/625], Loss: 0.0837591141462326, Validation Acc:84.02\n",
      "Val Acc 84.04\n",
      "1gram tokens data:\n",
      "Train dataset size is 20000\n",
      "Val dataset size is 5000\n",
      "Test dataset size is 25000\n",
      "Total number of tokens in train dataset is 4814527\n",
      "Epoch: [1/6], Step: [128/625], Loss: 0.43803906440734863, Validation Acc:80.82\n",
      "Epoch: [1/6], Step: [256/625], Loss: 0.3651801347732544, Validation Acc:82.64\n",
      "Epoch: [1/6], Step: [384/625], Loss: 0.37161874771118164, Validation Acc:84.98\n",
      "Epoch: [1/6], Step: [512/625], Loss: 0.4395851492881775, Validation Acc:85.42\n",
      "Epoch: [2/6], Step: [128/625], Loss: 0.10340262949466705, Validation Acc:86.38\n",
      "Epoch: [2/6], Step: [256/625], Loss: 0.24077154695987701, Validation Acc:86.92\n",
      "Epoch: [2/6], Step: [384/625], Loss: 0.1513400375843048, Validation Acc:86.32\n",
      "Epoch: [2/6], Step: [512/625], Loss: 0.20237426459789276, Validation Acc:85.84\n",
      "Epoch: [3/6], Step: [128/625], Loss: 0.05785450339317322, Validation Acc:85.96\n",
      "Epoch: [3/6], Step: [256/625], Loss: 0.16501151025295258, Validation Acc:84.66\n",
      "Epoch: [3/6], Step: [384/625], Loss: 0.15235599875450134, Validation Acc:85.12\n",
      "Epoch: [3/6], Step: [512/625], Loss: 0.30089545249938965, Validation Acc:85.04\n",
      "Epoch: [4/6], Step: [128/625], Loss: 0.0623902752995491, Validation Acc:84.9\n",
      "Epoch: [4/6], Step: [256/625], Loss: 0.18910057842731476, Validation Acc:84.72\n",
      "Epoch: [4/6], Step: [384/625], Loss: 0.2992001175880432, Validation Acc:84.44\n",
      "Epoch: [4/6], Step: [512/625], Loss: 0.09372451156377792, Validation Acc:84.66\n",
      "Epoch: [5/6], Step: [128/625], Loss: 0.1330929398536682, Validation Acc:84.28\n",
      "Epoch: [5/6], Step: [256/625], Loss: 0.07074026763439178, Validation Acc:84.46\n",
      "Epoch: [5/6], Step: [384/625], Loss: 0.10394652932882309, Validation Acc:83.26\n",
      "Epoch: [5/6], Step: [512/625], Loss: 0.07155517488718033, Validation Acc:83.56\n",
      "Epoch: [6/6], Step: [128/625], Loss: 0.15422406792640686, Validation Acc:84.06\n",
      "Epoch: [6/6], Step: [256/625], Loss: 0.11011968553066254, Validation Acc:84.04\n",
      "Epoch: [6/6], Step: [384/625], Loss: 0.3458240330219269, Validation Acc:84.6\n",
      "Epoch: [6/6], Step: [512/625], Loss: 0.06667953729629517, Validation Acc:82.88\n",
      "Val Acc 83.9\n",
      "1gram tokens data:\n",
      "Train dataset size is 20000\n",
      "Val dataset size is 5000\n",
      "Test dataset size is 25000\n",
      "Total number of tokens in train dataset is 4814527\n",
      "Epoch: [1/6], Step: [128/625], Loss: 0.45135051012039185, Validation Acc:77.88\n",
      "Epoch: [1/6], Step: [256/625], Loss: 0.5441982746124268, Validation Acc:84.58\n",
      "Epoch: [1/6], Step: [384/625], Loss: 0.3586370348930359, Validation Acc:84.86\n",
      "Epoch: [1/6], Step: [512/625], Loss: 0.4877055883407593, Validation Acc:85.62\n",
      "Epoch: [2/6], Step: [128/625], Loss: 0.04829588532447815, Validation Acc:85.42\n",
      "Epoch: [2/6], Step: [256/625], Loss: 0.25610488653182983, Validation Acc:85.82\n",
      "Epoch: [2/6], Step: [384/625], Loss: 0.3365480899810791, Validation Acc:85.82\n",
      "Epoch: [2/6], Step: [512/625], Loss: 0.2055426687002182, Validation Acc:85.4\n",
      "Epoch: [3/6], Step: [128/625], Loss: 0.18710064888000488, Validation Acc:85.48\n",
      "Epoch: [3/6], Step: [256/625], Loss: 0.09511186927556992, Validation Acc:84.64\n",
      "Epoch: [3/6], Step: [384/625], Loss: 0.15752007067203522, Validation Acc:84.82\n",
      "Epoch: [3/6], Step: [512/625], Loss: 0.5053789615631104, Validation Acc:85.34\n",
      "Epoch: [4/6], Step: [128/625], Loss: 0.056422747671604156, Validation Acc:84.56\n",
      "Epoch: [4/6], Step: [256/625], Loss: 0.0933815985918045, Validation Acc:84.58\n",
      "Epoch: [4/6], Step: [384/625], Loss: 0.2504897117614746, Validation Acc:84.32\n",
      "Epoch: [4/6], Step: [512/625], Loss: 0.060837507247924805, Validation Acc:84.44\n",
      "Epoch: [5/6], Step: [128/625], Loss: 0.34354931116104126, Validation Acc:84.54\n",
      "Epoch: [5/6], Step: [256/625], Loss: 0.0777704119682312, Validation Acc:84.28\n",
      "Epoch: [5/6], Step: [384/625], Loss: 0.16260814666748047, Validation Acc:84.02\n",
      "Epoch: [5/6], Step: [512/625], Loss: 0.09998273104429245, Validation Acc:83.9\n",
      "Epoch: [6/6], Step: [128/625], Loss: 0.06816929578781128, Validation Acc:84.16\n",
      "Epoch: [6/6], Step: [256/625], Loss: 0.24788333475589752, Validation Acc:83.9\n",
      "Epoch: [6/6], Step: [384/625], Loss: 0.11918038874864578, Validation Acc:83.54\n",
      "Epoch: [6/6], Step: [512/625], Loss: 0.08894303441047668, Validation Acc:83.96\n",
      "Val Acc 83.28\n"
     ]
    },
    {
     "data": {
      "image/png": "[encoded data removed]",
      "text/plain": [
       "<Figure size 432x288 with 1 Axes>"
      ]
     },
     "metadata": {
      "needs_background": "light"
     },
     "output_type": "display_data"
    }
   ],
   "source": [
    "# unchanged hyperparameters\n",
    "learning_rate = 0.01\n",
    "BATCH_SIZE = 32\n",
    "ngram_n = 1\n",
    "num_epochs = 6\n",
    "max_vocab_size = 10000 \n",
    "\n",
    "#changed hyperparameters\n",
    "emb_dim_lst = [50,100,500,1000]\n",
    "\n",
    "#result_list\n",
    "emb_dim_results = []\n",
    "\n",
    "# Training the model\n",
    "\n",
    "val_acc_history = []\n",
    "\n",
    "for emb_dim in emb_dim_lst:\n",
    "    \n",
    "    #processes token dataset to indices dataset\n",
    "    train_data_indices, val_data_indices, test_data_indices = process_token_dataset(ngram_n, max_vocab_size)\n",
    "    #load token indices to fit pytorch input\n",
    "    train_loader, val_loader, test_loader = IMDBDataloader(train_data_indices, val_data_indices, test_data_indices)\n",
    "    #initialize model\n",
    "    model = BagOfWords(max_vocab_size+2, emb_dim)\n",
    "    \n",
    "    # Criterion and Optimizer\n",
    "    criterion = torch.nn.CrossEntropyLoss()  \n",
    "    optimizer = torch.optim.Adam(model.parameters(), lr=learning_rate)\n",
    "\n",
    "    # Training the model\n",
    "    val_acc_history = []\n",
    "\n",
    "    for epoch in range(num_epochs):\n",
    "        for i, (data, lengths, labels) in enumerate(train_loader):\n",
    "            model.train()\n",
    "            data_batch, length_batch, label_batch = data, lengths, labels\n",
    "            optimizer.zero_grad()\n",
    "            outputs = model(data_batch, length_batch)\n",
    "            loss = criterion(outputs, label_batch)\n",
    "            loss.backward()\n",
    "            optimizer.step()\n",
    "\n",
    "            # report performance\n",
    "            if (i+1) % (BATCH_SIZE*4) == 0:\n",
    "                \n",
    "                val_acc = test_model(val_loader, model)\n",
    "                val_acc_history.append(val_acc)\n",
    "                \n",
    "                print('Epoch: [{0}/{1}], Step: [{2}/{3}], Loss: {4}, Validation Acc:{5}'.format( \n",
    "                       epoch+1, num_epochs, i+1, len(train_loader), loss.item(),val_acc))\n",
    "\n",
    "    emb_dim_results.append(val_acc_history)\n",
    "    print (\"Val Acc {}\".format(test_model(val_loader, model)))\n",
    "\n",
    "for i in range(len(emb_dim_lst)):\n",
    "    plt.plot(emb_dim_results[i],label= str(emb_dim_lst[i]))\n",
    "    plt.ylabel('Validation accuracy')\n",
    "    plt.xlabel('Training size')\n",
    "    plt.title('embedding dim tunning')\n",
    "    plt.legend()\n",
    "    plt.savefig('val_acc_emb_dim.png')"
   ]
  },
  {
   "cell_type": "markdown",
   "metadata": {},
   "source": [
    "choose 100 as embedding dimensions"
   ]
  },
  {
   "cell_type": "markdown",
   "metadata": {},
   "source": [
    "### 4) Optimizer"
   ]
  },
  {
   "cell_type": "code",
   "execution_count": 62,
   "metadata": {},
   "outputs": [
    {
     "name": "stdout",
     "output_type": "stream",
     "text": [
      "1gram tokens data:\n",
      "Train dataset size is 20000\n",
      "Val dataset size is 5000\n",
      "Test dataset size is 25000\n",
      "Total number of tokens in train dataset is 4814527\n",
      "Epoch: [1/6], Step: [128/625], Loss: 0.43917036056518555, Validation Acc:80.34\n",
      "Epoch: [1/6], Step: [256/625], Loss: 0.4164101183414459, Validation Acc:85.14\n",
      "Epoch: [1/6], Step: [384/625], Loss: 0.21140821278095245, Validation Acc:86.16\n",
      "Epoch: [1/6], Step: [512/625], Loss: 0.2097274214029312, Validation Acc:86.44\n",
      "Epoch: [2/6], Step: [128/625], Loss: 0.19067879021167755, Validation Acc:86.82\n",
      "Epoch: [2/6], Step: [256/625], Loss: 0.3193698525428772, Validation Acc:86.92\n",
      "Epoch: [2/6], Step: [384/625], Loss: 0.1889200061559677, Validation Acc:86.46\n",
      "Epoch: [2/6], Step: [512/625], Loss: 0.11998192965984344, Validation Acc:86.34\n",
      "Epoch: [3/6], Step: [128/625], Loss: 0.11187190562486649, Validation Acc:86.64\n",
      "Epoch: [3/6], Step: [256/625], Loss: 0.07728447020053864, Validation Acc:85.16\n",
      "Epoch: [3/6], Step: [384/625], Loss: 0.1978924423456192, Validation Acc:85.96\n",
      "Epoch: [3/6], Step: [512/625], Loss: 0.08166787028312683, Validation Acc:86.42\n",
      "Epoch: [4/6], Step: [128/625], Loss: 0.040265798568725586, Validation Acc:86.24\n",
      "Epoch: [4/6], Step: [256/625], Loss: 0.0579380989074707, Validation Acc:86.04\n",
      "Epoch: [4/6], Step: [384/625], Loss: 0.07373107969760895, Validation Acc:85.22\n",
      "Epoch: [4/6], Step: [512/625], Loss: 0.08676204830408096, Validation Acc:85.44\n",
      "Epoch: [5/6], Step: [128/625], Loss: 0.04777324199676514, Validation Acc:85.4\n",
      "Epoch: [5/6], Step: [256/625], Loss: 0.040538206696510315, Validation Acc:84.1\n",
      "Epoch: [5/6], Step: [384/625], Loss: 0.14331476390361786, Validation Acc:85.3\n",
      "Epoch: [5/6], Step: [512/625], Loss: 0.10181508213281631, Validation Acc:84.7\n",
      "Epoch: [6/6], Step: [128/625], Loss: 0.06722905486822128, Validation Acc:84.48\n",
      "Epoch: [6/6], Step: [256/625], Loss: 0.04332081973552704, Validation Acc:84.4\n",
      "Epoch: [6/6], Step: [384/625], Loss: 0.07705969363451004, Validation Acc:84.2\n",
      "Epoch: [6/6], Step: [512/625], Loss: 0.15598584711551666, Validation Acc:84.16\n",
      "Val Acc 84.08\n",
      "Epoch: [1/6], Step: [128/625], Loss: 1.900573492050171, Validation Acc:51.52\n",
      "Epoch: [1/6], Step: [256/625], Loss: 1.31878662109375, Validation Acc:53.02\n",
      "Epoch: [1/6], Step: [384/625], Loss: 1.0495694875717163, Validation Acc:55.26\n",
      "Epoch: [1/6], Step: [512/625], Loss: 0.9419351816177368, Validation Acc:55.64\n",
      "Epoch: [2/6], Step: [128/625], Loss: 0.8477575778961182, Validation Acc:58.0\n",
      "Epoch: [2/6], Step: [256/625], Loss: 0.8267015218734741, Validation Acc:57.6\n",
      "Epoch: [2/6], Step: [384/625], Loss: 0.8099948763847351, Validation Acc:59.62\n",
      "Epoch: [2/6], Step: [512/625], Loss: 0.7614349126815796, Validation Acc:60.54\n",
      "Epoch: [3/6], Step: [128/625], Loss: 0.7685000896453857, Validation Acc:60.98\n",
      "Epoch: [3/6], Step: [256/625], Loss: 0.7476670742034912, Validation Acc:61.58\n",
      "Epoch: [3/6], Step: [384/625], Loss: 0.7283944487571716, Validation Acc:61.96\n",
      "Epoch: [3/6], Step: [512/625], Loss: 0.708990752696991, Validation Acc:62.16\n",
      "Epoch: [4/6], Step: [128/625], Loss: 0.7221513986587524, Validation Acc:62.54\n",
      "Epoch: [4/6], Step: [256/625], Loss: 0.6944690942764282, Validation Acc:62.2\n",
      "Epoch: [4/6], Step: [384/625], Loss: 0.6995093822479248, Validation Acc:62.54\n",
      "Epoch: [4/6], Step: [512/625], Loss: 0.7171856164932251, Validation Acc:62.26\n",
      "Epoch: [5/6], Step: [128/625], Loss: 0.6940081119537354, Validation Acc:63.84\n",
      "Epoch: [5/6], Step: [256/625], Loss: 0.7135347723960876, Validation Acc:62.12\n",
      "Epoch: [5/6], Step: [384/625], Loss: 0.7138586044311523, Validation Acc:64.34\n",
      "Epoch: [5/6], Step: [512/625], Loss: 0.6897974014282227, Validation Acc:63.08\n",
      "Epoch: [6/6], Step: [128/625], Loss: 0.691043496131897, Validation Acc:63.86\n",
      "Epoch: [6/6], Step: [256/625], Loss: 0.677165687084198, Validation Acc:64.34\n",
      "Epoch: [6/6], Step: [384/625], Loss: 0.6404604911804199, Validation Acc:64.56\n",
      "Epoch: [6/6], Step: [512/625], Loss: 0.6583669781684875, Validation Acc:64.82\n",
      "Val Acc 64.9\n"
     ]
    }
   ],
   "source": [
    "# unchanged hyperparameters\n",
    "learning_rate = 0.01\n",
    "BATCH_SIZE = 32\n",
    "ngram_n = 1\n",
    "num_epochs = 6\n",
    "max_vocab_size = 10000 \n",
    "emb_dim = 100\n",
    "\n",
    "\n",
    "#result_list\n",
    "optimizer_acc_results = []\n",
    "optimizer_loss_results = []\n",
    "\n",
    "    \n",
    "#processes token dataset to indices dataset\n",
    "train_data_indices, val_data_indices, test_data_indices = process_token_dataset(ngram_n, max_vocab_size)\n",
    "#load token indices to fit pytorch input\n",
    "train_loader, val_loader, test_loader = IMDBDataloader(train_data_indices, val_data_indices, test_data_indices)\n",
    "\n",
    "    \n",
    "for i in range(2):\n",
    "    #initialize model\n",
    "    model = BagOfWords(max_vocab_size+2, emb_dim)\n",
    "    \n",
    "    # Criterion and Optimizer\n",
    "    criterion = torch.nn.CrossEntropyLoss()  \n",
    "    \n",
    "    if(i == 0):\n",
    "        optimizer = torch.optim.Adam(model.parameters(), lr=learning_rate)\n",
    "    else:\n",
    "        optimizer = torch.optim.SGD(model.parameters(), lr=learning_rate)\n",
    "    \n",
    "    # Training the model\n",
    "    val_acc_history = []\n",
    "    train_loss_history = []\n",
    "    \n",
    "    for epoch in range(num_epochs):\n",
    "        for i, (data, lengths, labels) in enumerate(train_loader):\n",
    "            model.train()\n",
    "            data_batch, length_batch, label_batch = data, lengths, labels\n",
    "            optimizer.zero_grad()\n",
    "            outputs = model(data_batch, length_batch)\n",
    "            loss = criterion(outputs, label_batch)\n",
    "            loss.backward()\n",
    "            optimizer.step()\n",
    "\n",
    "            # report performance\n",
    "            if (i+1) % (BATCH_SIZE*4) == 0:\n",
    "\n",
    "                val_acc = test_model(val_loader, model)\n",
    "                val_acc_history.append(val_acc)\n",
    "                train_loss_history.append(loss.item())\n",
    "\n",
    "                print('Epoch: [{0}/{1}], Step: [{2}/{3}], Loss: {4}, Validation Acc:{5}'.format( \n",
    "                        epoch+1, num_epochs, i+1, len(train_loader), loss.item(),val_acc))\n",
    "\n",
    "    optimizer_acc_results.append(val_acc_history)\n",
    "    optimizer_loss_results.append(train_loss_history)\n",
    "    \n",
    "    print (\"Val Acc {}\".format(test_model(val_loader, model)))"
   ]
  },
  {
   "cell_type": "code",
   "execution_count": 63,
   "metadata": {},
   "outputs": [
    {
     "data": {
      "image/png": "[encoded data removed]",
      "text/plain": [
       "<Figure size 432x288 with 1 Axes>"
      ]
     },
     "metadata": {
      "needs_background": "light"
     },
     "output_type": "display_data"
    }
   ],
   "source": [
    "label_lst=['Adam','SGD']\n",
    "for i in range(2):\n",
    "    plt.plot(optimizer_acc_results[i],label= label_lst[i])\n",
    "plt.ylabel('Validation accuracy')\n",
    "plt.xlabel('Training size')\n",
    "plt.title('Optimizer Adam/SGD')\n",
    "plt.legend()\n",
    "plt.savefig('val_acc_optimizer.png')"
   ]
  },
  {
   "cell_type": "code",
   "execution_count": 64,
   "metadata": {},
   "outputs": [
    {
     "data": {
      "image/png": "[encoded data removed]",
      "text/plain": [
       "<Figure size 432x288 with 1 Axes>"
      ]
     },
     "metadata": {
      "needs_background": "light"
     },
     "output_type": "display_data"
    }
   ],
   "source": [
    "for i in range(2):\n",
    "    plt.plot(optimizer_loss_results[i],label= label_lst[i])\n",
    "plt.ylabel('Training loss')\n",
    "plt.xlabel('Training size')\n",
    "plt.title('Optimizer Adam/SGD')\n",
    "plt.legend()\n",
    "plt.savefig('train_loss_optimizer.png')"
   ]
  },
  {
   "cell_type": "markdown",
   "metadata": {},
   "source": [
    "### 5) Learning rate"
   ]
  },
  {
   "cell_type": "markdown",
   "metadata": {},
   "source": [
    "a) static learning rate [0.0001, 0.001, 0.01, 0.1]"
   ]
  },
  {
   "cell_type": "code",
   "execution_count": 65,
   "metadata": {},
   "outputs": [
    {
     "name": "stdout",
     "output_type": "stream",
     "text": [
      "1gram tokens data:\n",
      "Train dataset size is 20000\n",
      "Val dataset size is 5000\n",
      "Test dataset size is 25000\n",
      "Total number of tokens in train dataset is 4814527\n",
      "learning rate =0.0001\n",
      "Epoch: [1/6], Step: [128/625], Loss: 2.7743122577667236, Validation Acc:48.06\n",
      "Epoch: [1/6], Step: [256/625], Loss: 2.490434408187866, Validation Acc:49.4\n",
      "Epoch: [1/6], Step: [384/625], Loss: 2.252640962600708, Validation Acc:50.34\n",
      "Epoch: [1/6], Step: [512/625], Loss: 1.9570882320404053, Validation Acc:50.72\n",
      "Epoch: [2/6], Step: [128/625], Loss: 1.399893879890442, Validation Acc:51.42\n",
      "Epoch: [2/6], Step: [256/625], Loss: 1.1830980777740479, Validation Acc:51.78\n",
      "Epoch: [2/6], Step: [384/625], Loss: 1.046135663986206, Validation Acc:52.18\n",
      "Epoch: [2/6], Step: [512/625], Loss: 0.945493221282959, Validation Acc:52.66\n",
      "Epoch: [3/6], Step: [128/625], Loss: 0.8258750438690186, Validation Acc:56.18\n",
      "Epoch: [3/6], Step: [256/625], Loss: 0.7957881093025208, Validation Acc:56.8\n",
      "Epoch: [3/6], Step: [384/625], Loss: 0.7756350636482239, Validation Acc:58.22\n",
      "Epoch: [3/6], Step: [512/625], Loss: 0.7670075297355652, Validation Acc:59.36\n",
      "Epoch: [4/6], Step: [128/625], Loss: 0.7405985593795776, Validation Acc:60.6\n",
      "Epoch: [4/6], Step: [256/625], Loss: 0.7252450585365295, Validation Acc:62.28\n",
      "Epoch: [4/6], Step: [384/625], Loss: 0.712647557258606, Validation Acc:62.72\n",
      "Epoch: [4/6], Step: [512/625], Loss: 0.705748438835144, Validation Acc:63.1\n",
      "Epoch: [5/6], Step: [128/625], Loss: 0.6952145099639893, Validation Acc:64.94\n",
      "Epoch: [5/6], Step: [256/625], Loss: 0.6784416437149048, Validation Acc:65.14\n",
      "Epoch: [5/6], Step: [384/625], Loss: 0.6709206700325012, Validation Acc:65.9\n",
      "Epoch: [5/6], Step: [512/625], Loss: 0.6849517226219177, Validation Acc:66.66\n",
      "Epoch: [6/6], Step: [128/625], Loss: 0.6999280452728271, Validation Acc:67.28\n",
      "Epoch: [6/6], Step: [256/625], Loss: 0.6314442157745361, Validation Acc:67.72\n",
      "Epoch: [6/6], Step: [384/625], Loss: 0.6550650000572205, Validation Acc:67.94\n",
      "Epoch: [6/6], Step: [512/625], Loss: 0.6805484294891357, Validation Acc:68.42\n",
      "Val Acc 69.0\n",
      "learning rate =0.001\n",
      "Epoch: [1/6], Step: [128/625], Loss: 0.8391304612159729, Validation Acc:57.46\n",
      "Epoch: [1/6], Step: [256/625], Loss: 0.7132741808891296, Validation Acc:62.58\n",
      "Epoch: [1/6], Step: [384/625], Loss: 0.687447726726532, Validation Acc:68.66\n",
      "Epoch: [1/6], Step: [512/625], Loss: 0.6146501898765564, Validation Acc:72.4\n",
      "Epoch: [2/6], Step: [128/625], Loss: 0.5435314774513245, Validation Acc:77.04\n",
      "Epoch: [2/6], Step: [256/625], Loss: 0.5445924997329712, Validation Acc:78.66\n",
      "Epoch: [2/6], Step: [384/625], Loss: 0.4627256393432617, Validation Acc:80.1\n",
      "Epoch: [2/6], Step: [512/625], Loss: 0.5269749164581299, Validation Acc:81.32\n",
      "Epoch: [3/6], Step: [128/625], Loss: 0.42595887184143066, Validation Acc:83.02\n",
      "Epoch: [3/6], Step: [256/625], Loss: 0.5115081667900085, Validation Acc:83.06\n",
      "Epoch: [3/6], Step: [384/625], Loss: 0.4231071174144745, Validation Acc:83.84\n",
      "Epoch: [3/6], Step: [512/625], Loss: 0.4647342264652252, Validation Acc:84.14\n",
      "Epoch: [4/6], Step: [128/625], Loss: 0.5741349458694458, Validation Acc:84.68\n",
      "Epoch: [4/6], Step: [256/625], Loss: 0.3692910671234131, Validation Acc:85.34\n",
      "Epoch: [4/6], Step: [384/625], Loss: 0.2109116017818451, Validation Acc:85.28\n",
      "Epoch: [4/6], Step: [512/625], Loss: 0.3131888508796692, Validation Acc:85.5\n",
      "Epoch: [5/6], Step: [128/625], Loss: 0.3652039170265198, Validation Acc:85.58\n",
      "Epoch: [5/6], Step: [256/625], Loss: 0.21167604625225067, Validation Acc:85.8\n",
      "Epoch: [5/6], Step: [384/625], Loss: 0.24861843883991241, Validation Acc:85.96\n",
      "Epoch: [5/6], Step: [512/625], Loss: 0.201253280043602, Validation Acc:86.22\n",
      "Epoch: [6/6], Step: [128/625], Loss: 0.2532505393028259, Validation Acc:86.64\n",
      "Epoch: [6/6], Step: [256/625], Loss: 0.26138246059417725, Validation Acc:86.16\n",
      "Epoch: [6/6], Step: [384/625], Loss: 0.23088259994983673, Validation Acc:86.74\n",
      "Epoch: [6/6], Step: [512/625], Loss: 0.1797729879617691, Validation Acc:86.42\n",
      "Val Acc 86.44\n",
      "learning rate =0.01\n",
      "Epoch: [1/6], Step: [128/625], Loss: 0.4393012523651123, Validation Acc:79.86\n",
      "Epoch: [1/6], Step: [256/625], Loss: 0.4109231233596802, Validation Acc:84.24\n",
      "Epoch: [1/6], Step: [384/625], Loss: 0.2363419532775879, Validation Acc:84.98\n",
      "Epoch: [1/6], Step: [512/625], Loss: 0.24102360010147095, Validation Acc:85.88\n",
      "Epoch: [2/6], Step: [128/625], Loss: 0.24002303183078766, Validation Acc:86.9\n",
      "Epoch: [2/6], Step: [256/625], Loss: 0.12808792293071747, Validation Acc:87.38\n",
      "Epoch: [2/6], Step: [384/625], Loss: 0.2570800483226776, Validation Acc:87.48\n",
      "Epoch: [2/6], Step: [512/625], Loss: 0.22771301865577698, Validation Acc:86.44\n",
      "Epoch: [3/6], Step: [128/625], Loss: 0.0829024463891983, Validation Acc:86.56\n",
      "Epoch: [3/6], Step: [256/625], Loss: 0.11583131551742554, Validation Acc:86.4\n",
      "Epoch: [3/6], Step: [384/625], Loss: 0.15109741687774658, Validation Acc:85.56\n",
      "Epoch: [3/6], Step: [512/625], Loss: 0.2115951031446457, Validation Acc:85.88\n",
      "Epoch: [4/6], Step: [128/625], Loss: 0.13358892500400543, Validation Acc:85.94\n",
      "Epoch: [4/6], Step: [256/625], Loss: 0.11038342118263245, Validation Acc:85.86\n",
      "Epoch: [4/6], Step: [384/625], Loss: 0.04608006775379181, Validation Acc:85.52\n",
      "Epoch: [4/6], Step: [512/625], Loss: 0.20903639495372772, Validation Acc:84.3\n",
      "Epoch: [5/6], Step: [128/625], Loss: 0.056674979627132416, Validation Acc:85.38\n",
      "Epoch: [5/6], Step: [256/625], Loss: 0.0586589053273201, Validation Acc:85.22\n",
      "Epoch: [5/6], Step: [384/625], Loss: 0.03948795795440674, Validation Acc:84.7\n",
      "Epoch: [5/6], Step: [512/625], Loss: 0.09126511216163635, Validation Acc:84.64\n",
      "Epoch: [6/6], Step: [128/625], Loss: 0.2285310924053192, Validation Acc:84.44\n",
      "Epoch: [6/6], Step: [256/625], Loss: 0.017062202095985413, Validation Acc:84.22\n",
      "Epoch: [6/6], Step: [384/625], Loss: 0.03574790060520172, Validation Acc:84.54\n",
      "Epoch: [6/6], Step: [512/625], Loss: 0.05481871962547302, Validation Acc:84.54\n",
      "Val Acc 84.68\n",
      "learning rate =0.1\n",
      "Epoch: [1/6], Step: [128/625], Loss: 0.37263351678848267, Validation Acc:83.4\n",
      "Epoch: [1/6], Step: [256/625], Loss: 0.19281864166259766, Validation Acc:83.78\n",
      "Epoch: [1/6], Step: [384/625], Loss: 0.4460597038269043, Validation Acc:84.94\n",
      "Epoch: [1/6], Step: [512/625], Loss: 0.2609894871711731, Validation Acc:84.78\n",
      "Epoch: [2/6], Step: [128/625], Loss: 0.29073745012283325, Validation Acc:85.12\n",
      "Epoch: [2/6], Step: [256/625], Loss: 0.09479553997516632, Validation Acc:84.46\n",
      "Epoch: [2/6], Step: [384/625], Loss: 0.4480437934398651, Validation Acc:83.36\n",
      "Epoch: [2/6], Step: [512/625], Loss: 0.17031480371952057, Validation Acc:83.58\n",
      "Epoch: [3/6], Step: [128/625], Loss: 0.3421769142150879, Validation Acc:81.44\n",
      "Epoch: [3/6], Step: [256/625], Loss: 0.3996858298778534, Validation Acc:84.64\n",
      "Epoch: [3/6], Step: [384/625], Loss: 0.03926393389701843, Validation Acc:83.96\n",
      "Epoch: [3/6], Step: [512/625], Loss: 0.8659552335739136, Validation Acc:84.24\n",
      "Epoch: [4/6], Step: [128/625], Loss: 0.21814550459384918, Validation Acc:83.22\n",
      "Epoch: [4/6], Step: [256/625], Loss: 0.37853696942329407, Validation Acc:82.44\n",
      "Epoch: [4/6], Step: [384/625], Loss: 0.4838106036186218, Validation Acc:83.92\n",
      "Epoch: [4/6], Step: [512/625], Loss: 0.36105823516845703, Validation Acc:83.54\n",
      "Epoch: [5/6], Step: [128/625], Loss: 0.15203309059143066, Validation Acc:83.66\n",
      "Epoch: [5/6], Step: [256/625], Loss: 0.09895829856395721, Validation Acc:83.98\n",
      "Epoch: [5/6], Step: [384/625], Loss: 0.9944007396697998, Validation Acc:83.66\n",
      "Epoch: [5/6], Step: [512/625], Loss: 0.23708650469779968, Validation Acc:83.84\n",
      "Epoch: [6/6], Step: [128/625], Loss: 0.0818869024515152, Validation Acc:83.22\n",
      "Epoch: [6/6], Step: [256/625], Loss: 0.12490081787109375, Validation Acc:84.14\n",
      "Epoch: [6/6], Step: [384/625], Loss: 0.2598515450954437, Validation Acc:82.62\n",
      "Epoch: [6/6], Step: [512/625], Loss: 0.10292226076126099, Validation Acc:82.02\n",
      "Val Acc 83.7\n"
     ]
    }
   ],
   "source": [
    "# unchanged hyperparameters\n",
    "BATCH_SIZE = 32\n",
    "ngram_n = 1\n",
    "num_epochs = 6\n",
    "max_vocab_size = 10000 \n",
    "emb_dim = 100\n",
    "\n",
    "#changing hyperparameter\n",
    "learning_rate_lst = [0.0001, 0.001, 0.01, 0.1]\n",
    "\n",
    "#results list\n",
    "lr_acc_results = []\n",
    "lr_loss_results = []\n",
    "\n",
    "#processes token dataset to indices dataset\n",
    "train_data_indices, val_data_indices, test_data_indices = process_token_dataset(ngram_n, max_vocab_size)\n",
    "#load token indices to fit pytorch input\n",
    "train_loader, val_loader, test_loader = IMDBDataloader(train_data_indices, val_data_indices, test_data_indices)\n",
    "\n",
    "for learning_rate in learning_rate_lst:\n",
    "    print('learning rate ={}'.format(learning_rate))\n",
    "    #initialize model\n",
    "    model = BagOfWords(max_vocab_size+2, emb_dim)\n",
    "    \n",
    "    # Criterion and Optimizer\n",
    "    criterion = torch.nn.CrossEntropyLoss() \n",
    "    optimizer = torch.optim.Adam(model.parameters(), lr=learning_rate)\n",
    "    \n",
    "    # Training the model\n",
    "    val_acc_history = []\n",
    "    train_loss_history = []\n",
    "    \n",
    "    for epoch in range(num_epochs):\n",
    "        for i, (data, lengths, labels) in enumerate(train_loader):\n",
    "            model.train()\n",
    "            data_batch, length_batch, label_batch = data, lengths, labels\n",
    "            optimizer.zero_grad()\n",
    "            outputs = model(data_batch, length_batch)\n",
    "            loss = criterion(outputs, label_batch)\n",
    "            loss.backward()\n",
    "            optimizer.step()\n",
    "\n",
    "            # report performance\n",
    "            if (i+1) % (BATCH_SIZE*4) == 0:\n",
    "\n",
    "                val_acc = test_model(val_loader, model)\n",
    "                val_acc_history.append(val_acc)\n",
    "                train_loss_history.append(loss.item())\n",
    "\n",
    "                print('Epoch: [{0}/{1}], Step: [{2}/{3}], Loss: {4}, Validation Acc:{5}'.format( \n",
    "                        epoch+1, num_epochs, i+1, len(train_loader), loss.item(),val_acc))\n",
    "\n",
    "    lr_acc_results.append(val_acc_history)\n",
    "    lr_loss_results.append(train_loss_history)\n",
    "    \n",
    "    print (\"Val Acc {}\".format(test_model(val_loader, model)))"
   ]
  },
  {
   "cell_type": "code",
   "execution_count": 67,
   "metadata": {},
   "outputs": [
    {
     "data": {
      "image/png": "[encoded data removed]",
      "text/plain": [
       "<Figure size 432x288 with 1 Axes>"
      ]
     },
     "metadata": {
      "needs_background": "light"
     },
     "output_type": "display_data"
    }
   ],
   "source": [
    "for i in range(len(learning_rate_lst)):\n",
    "    plt.plot(lr_acc_results[i],label = str(learning_rate_lst[i]))\n",
    "plt.ylabel('Validation accuracy')\n",
    "plt.xlabel('Training size')\n",
    "plt.title('learning rate tunning')\n",
    "plt.legend()\n",
    "plt.savefig('val_acc_lr.png')"
   ]
  },
  {
   "cell_type": "code",
   "execution_count": 68,
   "metadata": {},
   "outputs": [
    {
     "data": {
      "image/png": "[encoded data removed]",
      "text/plain": [
       "<Figure size 432x288 with 1 Axes>"
      ]
     },
     "metadata": {
      "needs_background": "light"
     },
     "output_type": "display_data"
    }
   ],
   "source": [
    "for i in range(len(learning_rate_lst)):\n",
    "    plt.plot(lr_loss_results[i],label = str(learning_rate_lst[i]))\n",
    "plt.ylabel('Training loss')\n",
    "plt.xlabel('Training size')\n",
    "plt.title('learning rate tunning')\n",
    "plt.legend()\n",
    "plt.savefig('train_loss_lr.png')"
   ]
  },
  {
   "cell_type": "markdown",
   "metadata": {},
   "source": [
    "Choose learning_rate = 0.01"
   ]
  },
  {
   "cell_type": "markdown",
   "metadata": {},
   "source": [
    "b) linear annealing of learning rate"
   ]
  },
  {
   "cell_type": "code",
   "execution_count": 132,
   "metadata": {},
   "outputs": [
    {
     "name": "stdout",
     "output_type": "stream",
     "text": [
      "1gram tokens data:\n",
      "Train dataset size is 20000\n",
      "Val dataset size is 5000\n",
      "Test dataset size is 25000\n",
      "Total number of tokens in train dataset is 4814527\n",
      "learning rate = 0.01\n",
      "Epoch: [1/6], Step: [128/625], Loss: 0.49958282709121704, Validation Acc:79.2\n",
      "Epoch: [1/6], Step: [256/625], Loss: 0.22386766970157623, Validation Acc:83.18\n",
      "Epoch: [1/6], Step: [384/625], Loss: 0.41396117210388184, Validation Acc:85.8\n",
      "Epoch: [1/6], Step: [512/625], Loss: 0.4404456913471222, Validation Acc:86.74\n",
      "learning rate = 0.01\n",
      "Epoch: [2/6], Step: [128/625], Loss: 0.24821141362190247, Validation Acc:86.96\n",
      "Epoch: [2/6], Step: [256/625], Loss: 0.3416937589645386, Validation Acc:85.6\n",
      "Epoch: [2/6], Step: [384/625], Loss: 0.3135157525539398, Validation Acc:86.04\n",
      "Epoch: [2/6], Step: [512/625], Loss: 0.27714455127716064, Validation Acc:86.96\n",
      "learning rate = 0.01\n",
      "Epoch: [3/6], Step: [128/625], Loss: 0.16616247594356537, Validation Acc:86.68\n",
      "Epoch: [3/6], Step: [256/625], Loss: 0.36718064546585083, Validation Acc:86.06\n",
      "Epoch: [3/6], Step: [384/625], Loss: 0.11108651757240295, Validation Acc:85.88\n",
      "Epoch: [3/6], Step: [512/625], Loss: 0.3313867449760437, Validation Acc:86.12\n",
      "learning rate = 0.01\n",
      "Epoch: [4/6], Step: [128/625], Loss: 0.1270325481891632, Validation Acc:85.86\n",
      "Epoch: [4/6], Step: [256/625], Loss: 0.044591501355171204, Validation Acc:85.88\n",
      "Epoch: [4/6], Step: [384/625], Loss: 0.14828172326087952, Validation Acc:85.56\n",
      "Epoch: [4/6], Step: [512/625], Loss: 0.07168187946081161, Validation Acc:85.36\n",
      "learning rate = 0.01\n",
      "Epoch: [5/6], Step: [128/625], Loss: 0.09840109944343567, Validation Acc:85.56\n",
      "Epoch: [5/6], Step: [256/625], Loss: 0.018402814865112305, Validation Acc:84.14\n",
      "Epoch: [5/6], Step: [384/625], Loss: 0.1642789989709854, Validation Acc:84.76\n",
      "Epoch: [5/6], Step: [512/625], Loss: 0.13862937688827515, Validation Acc:83.84\n",
      "learning rate = 0.01\n",
      "Epoch: [6/6], Step: [128/625], Loss: 0.045780763030052185, Validation Acc:84.74\n",
      "Epoch: [6/6], Step: [256/625], Loss: 0.019707143306732178, Validation Acc:84.26\n",
      "Epoch: [6/6], Step: [384/625], Loss: 0.07926272600889206, Validation Acc:84.24\n",
      "Epoch: [6/6], Step: [512/625], Loss: 0.022835910320281982, Validation Acc:84.06\n",
      "Val Acc 84.24\n",
      "learning rate = 0.01\n",
      "Epoch: [1/6], Step: [128/625], Loss: 0.3387790322303772, Validation Acc:79.42\n",
      "Epoch: [1/6], Step: [256/625], Loss: 0.25689929723739624, Validation Acc:84.78\n",
      "Epoch: [1/6], Step: [384/625], Loss: 0.24229884147644043, Validation Acc:85.6\n",
      "Epoch: [1/6], Step: [512/625], Loss: 0.28560101985931396, Validation Acc:86.26\n",
      "learning rate = 0.009000000000000001\n",
      "Epoch: [2/6], Step: [128/625], Loss: 0.1884196549654007, Validation Acc:86.1\n",
      "Epoch: [2/6], Step: [256/625], Loss: 0.23391807079315186, Validation Acc:87.1\n",
      "Epoch: [2/6], Step: [384/625], Loss: 0.23797832429409027, Validation Acc:86.9\n",
      "Epoch: [2/6], Step: [512/625], Loss: 0.1869174689054489, Validation Acc:86.86\n",
      "learning rate = 0.008\n",
      "Epoch: [3/6], Step: [128/625], Loss: 0.15622374415397644, Validation Acc:86.42\n",
      "Epoch: [3/6], Step: [256/625], Loss: 0.056939736008644104, Validation Acc:85.86\n",
      "Epoch: [3/6], Step: [384/625], Loss: 0.2082025557756424, Validation Acc:86.2\n",
      "Epoch: [3/6], Step: [512/625], Loss: 0.07698813080787659, Validation Acc:85.42\n",
      "learning rate = 0.007\n",
      "Epoch: [4/6], Step: [128/625], Loss: 0.1368083357810974, Validation Acc:86.04\n",
      "Epoch: [4/6], Step: [256/625], Loss: 0.1299513429403305, Validation Acc:85.98\n",
      "Epoch: [4/6], Step: [384/625], Loss: 0.06571757793426514, Validation Acc:85.12\n",
      "Epoch: [4/6], Step: [512/625], Loss: 0.1603996306657791, Validation Acc:85.88\n",
      "learning rate = 0.006\n",
      "Epoch: [5/6], Step: [128/625], Loss: 0.025286823511123657, Validation Acc:85.5\n",
      "Epoch: [5/6], Step: [256/625], Loss: 0.09449275583028793, Validation Acc:85.18\n",
      "Epoch: [5/6], Step: [384/625], Loss: 0.04744000732898712, Validation Acc:85.22\n",
      "Epoch: [5/6], Step: [512/625], Loss: 0.2763141095638275, Validation Acc:85.02\n",
      "learning rate = 0.005\n",
      "Epoch: [6/6], Step: [128/625], Loss: 0.02127903699874878, Validation Acc:84.92\n",
      "Epoch: [6/6], Step: [256/625], Loss: 0.04422745108604431, Validation Acc:84.92\n",
      "Epoch: [6/6], Step: [384/625], Loss: 0.04411928355693817, Validation Acc:84.98\n",
      "Epoch: [6/6], Step: [512/625], Loss: 0.05372322350740433, Validation Acc:85.12\n",
      "Val Acc 84.62\n",
      "learning rate = 0.01\n",
      "Epoch: [1/6], Step: [128/625], Loss: 0.6433148384094238, Validation Acc:67.66\n",
      "Epoch: [1/6], Step: [256/625], Loss: 0.42257046699523926, Validation Acc:79.58\n",
      "Epoch: [1/6], Step: [384/625], Loss: 0.39280468225479126, Validation Acc:82.88\n",
      "Epoch: [1/6], Step: [512/625], Loss: 0.34654635190963745, Validation Acc:83.4\n",
      "learning rate = 0.005\n",
      "Epoch: [2/6], Step: [128/625], Loss: 0.15435008704662323, Validation Acc:85.76\n",
      "Epoch: [2/6], Step: [256/625], Loss: 0.25566571950912476, Validation Acc:85.38\n",
      "Epoch: [2/6], Step: [384/625], Loss: 0.3144263029098511, Validation Acc:85.18\n",
      "Epoch: [2/6], Step: [512/625], Loss: 0.13575418293476105, Validation Acc:87.12\n",
      "learning rate = 0.0025\n",
      "Epoch: [3/6], Step: [128/625], Loss: 0.1422557383775711, Validation Acc:87.26\n",
      "Epoch: [3/6], Step: [256/625], Loss: 0.10789909958839417, Validation Acc:87.48\n",
      "Epoch: [3/6], Step: [384/625], Loss: 0.133972629904747, Validation Acc:87.36\n",
      "Epoch: [3/6], Step: [512/625], Loss: 0.27542197704315186, Validation Acc:87.34\n",
      "learning rate = 0.00125\n",
      "Epoch: [4/6], Step: [128/625], Loss: 0.29232895374298096, Validation Acc:87.26\n",
      "Epoch: [4/6], Step: [256/625], Loss: 0.08691481500864029, Validation Acc:87.36\n",
      "Epoch: [4/6], Step: [384/625], Loss: 0.31280282139778137, Validation Acc:86.98\n",
      "Epoch: [4/6], Step: [512/625], Loss: 0.23701153695583344, Validation Acc:87.44\n",
      "learning rate = 0.000625\n",
      "Epoch: [5/6], Step: [128/625], Loss: 0.06470823287963867, Validation Acc:87.42\n",
      "Epoch: [5/6], Step: [256/625], Loss: 0.138283371925354, Validation Acc:87.16\n",
      "Epoch: [5/6], Step: [384/625], Loss: 0.1073649600148201, Validation Acc:87.36\n",
      "Epoch: [5/6], Step: [512/625], Loss: 0.14109793305397034, Validation Acc:87.28\n",
      "learning rate = 0.0003125\n",
      "Epoch: [6/6], Step: [128/625], Loss: 0.17772270739078522, Validation Acc:87.4\n",
      "Epoch: [6/6], Step: [256/625], Loss: 0.2290494292974472, Validation Acc:87.46\n",
      "Epoch: [6/6], Step: [384/625], Loss: 0.08690357208251953, Validation Acc:87.04\n",
      "Epoch: [6/6], Step: [512/625], Loss: 0.08493746817111969, Validation Acc:87.36\n",
      "Val Acc 87.44\n"
     ]
    }
   ],
   "source": [
    "# unchanged hyperparameters\n",
    "BATCH_SIZE = 32\n",
    "ngram_n = 1\n",
    "num_epochs = 6\n",
    "max_vocab_size = 10000 \n",
    "emb_dim = 100\n",
    "\n",
    "#changing hyperparameter\n",
    "learning_rate = 0.01\n",
    "\n",
    "#results list\n",
    "lr_acc_results = []\n",
    "lr_loss_results = []\n",
    "\n",
    "#processes token dataset to indices dataset\n",
    "train_data_indices, val_data_indices, test_data_indices = process_token_dataset(ngram_n, max_vocab_size)\n",
    "#load token indices to fit pytorch input\n",
    "train_loader, val_loader, test_loader = IMDBDataloader(train_data_indices, val_data_indices, test_data_indices)\n",
    "\n",
    "for n in range(3):\n",
    "\n",
    "    #initialize model\n",
    "    model = BagOfWords(max_vocab_size+2, emb_dim)\n",
    "    \n",
    "    # Criterion and Optimizer\n",
    "    criterion = torch.nn.CrossEntropyLoss() \n",
    "    optimizer = torch.optim.Adam(model.parameters(), lr=learning_rate)\n",
    "    \n",
    "    # Training the model\n",
    "    val_acc_history = []\n",
    "    train_loss_history = []\n",
    "    \n",
    "    learning_rate = 0.01\n",
    "    for epoch in range(num_epochs):\n",
    "        print('learning rate = {}'.format(learning_rate))\n",
    "                \n",
    "        for i, (data, lengths, labels) in enumerate(train_loader):\n",
    "            model.train()\n",
    "            data_batch, length_batch, label_batch = data, lengths, labels\n",
    "            optimizer.zero_grad()\n",
    "            outputs = model(data_batch, length_batch)\n",
    "            loss = criterion(outputs, label_batch)\n",
    "            loss.backward()\n",
    "            optimizer.step()\n",
    "\n",
    "            # report performance\n",
    "            if (i+1) % (BATCH_SIZE*4) == 0:\n",
    "\n",
    "                val_acc = test_model(val_loader, model)\n",
    "                val_acc_history.append(val_acc)\n",
    "                train_loss_history.append(loss.item())\n",
    "\n",
    "                print('Epoch: [{0}/{1}], Step: [{2}/{3}], Loss: {4}, Validation Acc:{5}'.format( \n",
    "                        epoch+1, num_epochs, i+1, len(train_loader), loss.item(),val_acc))\n",
    "        if(n == 1): \n",
    "            learning_rate = 0.01 - (epoch+1)*0.001\n",
    "            for g in optimizer.param_groups:\n",
    "                g['lr'] = learning_rate\n",
    "\n",
    "        if(n == 2): \n",
    "            learning_rate /= 2\n",
    "            for g in optimizer.param_groups:\n",
    "                g['lr'] = learning_rate\n",
    "            \n",
    "    lr_acc_results.append(val_acc_history)\n",
    "    lr_loss_results.append(train_loss_history)\n",
    "    \n",
    "    print (\"Val Acc {}\".format(test_model(val_loader, model)))"
   ]
  },
  {
   "cell_type": "code",
   "execution_count": 133,
   "metadata": {},
   "outputs": [
    {
     "data": {
      "image/png": "[encoded data removed]",
      "text/plain": [
       "<Figure size 432x288 with 1 Axes>"
      ]
     },
     "metadata": {
      "needs_background": "light"
     },
     "output_type": "display_data"
    }
   ],
   "source": [
    "plt.plot(lr_acc_results[0],label = 'static')\n",
    "plt.plot(lr_acc_results[1],label = 'linear decay')\n",
    "plt.plot(lr_acc_results[2],label = 'exp decay')\n",
    "plt.ylabel('Validation accuracy')\n",
    "plt.xlabel('Training size')\n",
    "plt.title('static/decay learning rate')\n",
    "plt.legend()\n",
    "plt.savefig('val_acc_lr_decay.png')"
   ]
  },
  {
   "cell_type": "code",
   "execution_count": 134,
   "metadata": {},
   "outputs": [
    {
     "data": {
      "image/png": "[encoded data removed]",
      "text/plain": [
       "<Figure size 432x288 with 1 Axes>"
      ]
     },
     "metadata": {
      "needs_background": "light"
     },
     "output_type": "display_data"
    }
   ],
   "source": [
    "plt.plot(lr_loss_results[0],label = 'static')\n",
    "plt.plot(lr_loss_results[1],label = 'linear decay')\n",
    "plt.plot(lr_loss_results[2],label = 'exp decay')\n",
    "plt.ylabel('Training loss')\n",
    "plt.xlabel('Training size')\n",
    "plt.title('static/decay learning rate')\n",
    "plt.legend()\n",
    "plt.savefig('train_loss_lr_decay.png')"
   ]
  },
  {
   "cell_type": "markdown",
   "metadata": {},
   "source": [
    "Choose exp decay learning rate"
   ]
  },
  {
   "cell_type": "markdown",
   "metadata": {},
   "source": [
    "### 6) Early Stopping"
   ]
  },
  {
   "cell_type": "code",
   "execution_count": 123,
   "metadata": {},
   "outputs": [
    {
     "name": "stdout",
     "output_type": "stream",
     "text": [
      "1gram tokens data:\n",
      "Train dataset size is 20000\n",
      "Val dataset size is 5000\n",
      "Test dataset size is 25000\n",
      "Total number of tokens in train dataset is 4814527\n",
      "learning rate=0.01\n",
      "Epoch: [1/6], Step: [128/625], Loss: 0.47539737820625305, Validation Acc:79.76\n",
      "Epoch: [1/6], Step: [256/625], Loss: 0.1966523379087448, Validation Acc:82.84\n",
      "Epoch: [1/6], Step: [384/625], Loss: 0.4796360731124878, Validation Acc:85.8\n",
      "Epoch: [1/6], Step: [512/625], Loss: 0.2622743844985962, Validation Acc:86.52\n",
      "learning rate=0.005\n",
      "Epoch: [2/6], Step: [128/625], Loss: 0.23113055527210236, Validation Acc:87.3\n",
      "Epoch: [2/6], Step: [256/625], Loss: 0.07788926362991333, Validation Acc:87.12\n",
      "Epoch: [2/6], Step: [384/625], Loss: 0.4290255308151245, Validation Acc:87.14\n",
      "early stop triggered\n",
      "training after 2 epochs\n",
      "Val Acc 87.14\n"
     ]
    }
   ],
   "source": [
    "# hyperparameters\n",
    "BATCH_SIZE = 32\n",
    "ngram_n = 1\n",
    "num_epochs = 6\n",
    "max_vocab_size = 10000 \n",
    "emb_dim = 100\n",
    "learning_rate = 0.01\n",
    "\n",
    "#processes token dataset to indices dataset\n",
    "train_data_indices, val_data_indices, test_data_indices = process_token_dataset(ngram_n, max_vocab_size)\n",
    "#load token indices to fit pytorch input\n",
    "train_loader, val_loader, test_loader = IMDBDataloader(train_data_indices, val_data_indices, test_data_indices)\n",
    "\n",
    "#initialize model\n",
    "model = BagOfWords(max_vocab_size+2, emb_dim)\n",
    "    \n",
    "# Criterion and Optimizer\n",
    "criterion = torch.nn.CrossEntropyLoss() \n",
    "optimizer = torch.optim.Adam(model.parameters(), lr=learning_rate)\n",
    "    \n",
    "# Training the model\n",
    "val_acc_history = []\n",
    "train_loss_history = []\n",
    "    \n",
    "for epoch in range(num_epochs):\n",
    "#     learning_rate = 0.01 - epoch*0.001\n",
    "#     for g in optimizer.param_groups:\n",
    "#         g['lr'] = 0.01 - epoch*0.001\n",
    "#         print('learning rate={}'.format(g['lr']))\n",
    "\n",
    "    print('learning rate={}'.format(learning_rate))    \n",
    "    for i, (data, lengths, labels) in enumerate(train_loader):\n",
    "        model.train()\n",
    "        data_batch, length_batch, label_batch = data, lengths, labels\n",
    "        optimizer.zero_grad()\n",
    "        outputs = model(data_batch, length_batch)\n",
    "        loss = criterion(outputs, label_batch)\n",
    "        loss.backward()\n",
    "        optimizer.step()\n",
    "\n",
    "        # report performance\n",
    "        if (i+1) % (BATCH_SIZE*4) == 0:\n",
    "\n",
    "            val_acc = test_model(val_loader, model)\n",
    "            val_acc_history.append(val_acc)\n",
    "            train_loss_history.append(loss.item())\n",
    "\n",
    "            print('Epoch: [{0}/{1}], Step: [{2}/{3}], Loss: {4}, Validation Acc:{5}'.format( \n",
    "                    epoch+1, num_epochs, i+1, len(train_loader), loss.item(),val_acc))\n",
    "            \n",
    "            # check if we need early stopping\n",
    "            stop = early_stop(val_acc_history)\n",
    "            if stop:\n",
    "                print(\"early stop triggered\")\n",
    "                print('training after {} epochs'.format(epoch+1))\n",
    "                break\n",
    "    \n",
    "    learning_rate /= 2          \n",
    "    for g in optimizer.param_groups:\n",
    "        g['lr'] = learning_rate\n",
    "    \n",
    "    if stop:\n",
    "        break\n",
    "\n",
    "print (\"Val Acc {}\".format(test_model(val_loader, model)))"
   ]
  },
  {
   "cell_type": "code",
   "execution_count": 124,
   "metadata": {},
   "outputs": [
    {
     "data": {
      "image/png": "[encoded data removed]",
      "text/plain": [
       "<Figure size 432x288 with 1 Axes>"
      ]
     },
     "metadata": {
      "needs_background": "light"
     },
     "output_type": "display_data"
    }
   ],
   "source": [
    "plt.plot(val_acc_history)\n",
    "plt.ylabel('Validation accuracy')\n",
    "plt.xlabel('Training size')\n",
    "plt.title('early stopping added')\n",
    "plt.savefig('val_acc_earlystop.png')"
   ]
  },
  {
   "cell_type": "code",
   "execution_count": 125,
   "metadata": {},
   "outputs": [
    {
     "data": {
      "image/png": "[encoded data removed]",
      "text/plain": [
       "<Figure size 432x288 with 1 Axes>"
      ]
     },
     "metadata": {
      "needs_background": "light"
     },
     "output_type": "display_data"
    }
   ],
   "source": [
    "plt.plot(train_loss_history)\n",
    "plt.ylabel('Training loss')\n",
    "plt.xlabel('Training size')\n",
    "plt.title('early stopping added')\n",
    "plt.savefig('train_loss_earlystop.png')"
   ]
  },
  {
   "cell_type": "markdown",
   "metadata": {},
   "source": [
    "### 7) Tokenize scheme"
   ]
  },
  {
   "cell_type": "markdown",
   "metadata": {},
   "source": [
    "additionally remove stop words"
   ]
  },
  {
   "cell_type": "code",
   "execution_count": 107,
   "metadata": {},
   "outputs": [],
   "source": [
    "tokenizer = spacy.load('en_core_web_sm')\n",
    "punctuations = string.punctuation\n",
    "stopwords = spacy.lang.en.stop_words.STOP_WORDS\n",
    "\n",
    "# lowercase and remove punctuation\n",
    "def tokenize(sent):\n",
    "    tokens = tokenizer(sent)\n",
    "    return [token.text.lower() for token in tokens if (token.text not in punctuations)&(not token.is_stop)]"
   ]
  },
  {
   "cell_type": "code",
   "execution_count": 108,
   "metadata": {},
   "outputs": [
    {
     "name": "stdout",
     "output_type": "stream",
     "text": [
      "['this', 'example', 'sentence', 'we', 'remove', 'stop', 'words']\n"
     ]
    }
   ],
   "source": [
    "print(tokenize(\"This is an example sentence. We will remove stop words from this\"))"
   ]
  },
  {
   "cell_type": "code",
   "execution_count": 111,
   "metadata": {},
   "outputs": [
    {
     "name": "stdout",
     "output_type": "stream",
     "text": [
      "tokenizing val set\n",
      "tokenizing test set\n",
      "tokenizing train set\n"
     ]
    }
   ],
   "source": [
    "#tokenize val set\n",
    "print('tokenizing val set')\n",
    "val_data_tokens, _ = tokenize_dataset(val_data,1)\n",
    "pkl.dump(val_data_tokens, open(\"val_data_tokens_1gram_stopword.p\", \"wb\"))\n",
    "\n",
    "print('tokenizing test set')\n",
    "# test set tokens\n",
    "test_data_tokens, _ = tokenize_dataset(test_data,1)\n",
    "pkl.dump(test_data_tokens, open(\"test_data_tokens_1gram_stopword.p\", \"wb\"))\n",
    "\n",
    "print('tokenizing train set')\n",
    "# train set tokens\n",
    "train_data_tokens, all_train_tokens = tokenize_dataset(train_data,1)\n",
    "pkl.dump(train_data_tokens, open(\"train_data_tokens_1gram_stopword.p\", \"wb\"))\n",
    "pkl.dump(all_train_tokens, open(\"all_train_tokens_1gram_stopword.p\", \"wb\"))"
   ]
  },
  {
   "cell_type": "code",
   "execution_count": 142,
   "metadata": {},
   "outputs": [],
   "source": [
    "#load the preprocessed tokens dataset\n",
    "train_data_tokens = pkl.load(open(\"train_data_tokens_1gram_stopword.p\", \"rb\"))\n",
    "all_train_tokens = pkl.load(open(\"all_train_tokens_1gram_stopword.p\", \"rb\"))\n",
    "\n",
    "val_data_tokens = pkl.load(open(\"val_data_tokens_1gram_stopword.p\", \"rb\"))\n",
    "test_data_tokens = pkl.load(open(\"test_data_tokens_1gram_stopword.p\", \"rb\"))"
   ]
  },
  {
   "cell_type": "code",
   "execution_count": 143,
   "metadata": {},
   "outputs": [
    {
     "name": "stdout",
     "output_type": "stream",
     "text": [
      "train: 20000 \n",
      " val: 5000 \n",
      " test: 25000\n"
     ]
    }
   ],
   "source": [
    "#build the vocabulary of most common k tokens \n",
    "token2id, id2token = build_vacob(all_train_tokens,max_vocab_size)\n",
    "    \n",
    "# convert token to id for train,val and test dataset\n",
    "train_data_indices = token2index_dataset(train_data_tokens,token2id, id2token)\n",
    "val_data_indices = token2index_dataset(val_data_tokens,token2id, id2token)\n",
    "test_data_indices = token2index_dataset(test_data_tokens,token2id, id2token)\n",
    "\n",
    "print('train: {} \\n val: {} \\n test: {}'.format(len(train_data_indices),len(val_data_indices),len(test_data_indices)))"
   ]
  },
  {
   "cell_type": "code",
   "execution_count": 144,
   "metadata": {},
   "outputs": [
    {
     "name": "stdout",
     "output_type": "stream",
     "text": [
      "learning rate =0.01\n",
      "Epoch: [1/6], Step: [128/625], Loss: 0.41999551653862, Validation Acc:82.02\n",
      "Epoch: [1/6], Step: [256/625], Loss: 0.46682488918304443, Validation Acc:86.08\n",
      "Epoch: [1/6], Step: [384/625], Loss: 0.2197265475988388, Validation Acc:86.88\n",
      "Epoch: [1/6], Step: [512/625], Loss: 0.290327250957489, Validation Acc:87.82\n",
      "learning rate =0.005\n",
      "Epoch: [2/6], Step: [128/625], Loss: 0.12067976593971252, Validation Acc:87.76\n",
      "Epoch: [2/6], Step: [256/625], Loss: 0.20374059677124023, Validation Acc:88.26\n",
      "Epoch: [2/6], Step: [384/625], Loss: 0.11971070617437363, Validation Acc:87.8\n",
      "Epoch: [2/6], Step: [512/625], Loss: 0.17605812847614288, Validation Acc:87.7\n",
      "early stop triggered\n",
      "training after 2 epochs\n",
      "Val Acc 87.7\n"
     ]
    }
   ],
   "source": [
    "# tuned hyperparameters\n",
    "BATCH_SIZE = 32\n",
    "ngram_n = 1\n",
    "num_epochs = 6\n",
    "max_vocab_size = 10000 \n",
    "emb_dim = 100\n",
    "learning_rate = 0.01\n",
    "\n",
    "#load token indices to fit pytorch input\n",
    "train_loader, val_loader, test_loader = IMDBDataloader(train_data_indices, val_data_indices, test_data_indices)\n",
    "\n",
    "#initialize model\n",
    "model = BagOfWords(max_vocab_size+2, emb_dim)\n",
    "    \n",
    "# Criterion and Optimizer\n",
    "criterion = torch.nn.CrossEntropyLoss() \n",
    "optimizer = torch.optim.Adam(model.parameters(), lr=learning_rate)\n",
    "    \n",
    "# Training the model\n",
    "val_acc_history = []\n",
    "train_loss_history = []\n",
    "    \n",
    "for epoch in range(num_epochs):\n",
    "    print('learning rate ={}'.format(learning_rate))    \n",
    "    for i, (data, lengths, labels) in enumerate(train_loader):\n",
    "        model.train()\n",
    "        data_batch, length_batch, label_batch = data, lengths, labels\n",
    "        optimizer.zero_grad()\n",
    "        outputs = model(data_batch, length_batch)\n",
    "        loss = criterion(outputs, label_batch)\n",
    "        loss.backward()\n",
    "        optimizer.step()\n",
    "\n",
    "        # report performance\n",
    "        if (i+1) % (BATCH_SIZE*4) == 0:\n",
    "\n",
    "            val_acc = test_model(val_loader, model)\n",
    "            val_acc_history.append(val_acc)\n",
    "            train_loss_history.append(loss.item())\n",
    "\n",
    "            print('Epoch: [{0}/{1}], Step: [{2}/{3}], Loss: {4}, Validation Acc:{5}'.format( \n",
    "                    epoch+1, num_epochs, i+1, len(train_loader), loss.item(),val_acc))\n",
    "            \n",
    "            # check if we need early stopping\n",
    "            stop = early_stop(val_acc_history)\n",
    "            if stop:\n",
    "                print(\"early stop triggered\")\n",
    "                print('training after {} epochs'.format(epoch+1))\n",
    "                break\n",
    "                \n",
    "    learning_rate /= 2          \n",
    "    for g in optimizer.param_groups:\n",
    "        g['lr'] = learning_rate\n",
    "    \n",
    "    if stop:\n",
    "        break\n",
    "\n",
    "print (\"Val Acc {}\".format(test_model(val_loader, model)))\n"
   ]
  },
  {
   "cell_type": "code",
   "execution_count": 139,
   "metadata": {},
   "outputs": [
    {
     "data": {
      "image/png": "[encoded data removed]",
      "text/plain": [
       "<Figure size 432x288 with 1 Axes>"
      ]
     },
     "metadata": {
      "needs_background": "light"
     },
     "output_type": "display_data"
    }
   ],
   "source": [
    "plt.plot(val_acc_history)\n",
    "plt.ylabel('Validation accuracy')\n",
    "plt.xlabel('Training size')\n",
    "plt.title('stopwords removed')\n",
    "plt.savefig('val_acc_stopword.png')"
   ]
  },
  {
   "cell_type": "code",
   "execution_count": 140,
   "metadata": {},
   "outputs": [
    {
     "data": {
      "image/png": "[encoded data removed]",
      "text/plain": [
       "<Figure size 432x288 with 1 Axes>"
      ]
     },
     "metadata": {
      "needs_background": "light"
     },
     "output_type": "display_data"
    }
   ],
   "source": [
    "plt.plot(train_loss_history)\n",
    "plt.ylabel('Training loss')\n",
    "plt.xlabel('Training size')\n",
    "plt.title('stopwords removed')\n",
    "plt.savefig('train_loss_stopword.png')"
   ]
  },
  {
   "cell_type": "code",
   "execution_count": 141,
   "metadata": {},
   "outputs": [
    {
     "name": "stdout",
     "output_type": "stream",
     "text": [
      "Val Acc 87.8\n",
      "Test Acc 86.648\n"
     ]
    }
   ],
   "source": [
    "print (\"Val Acc {}\".format(test_model(val_loader, model)))\n",
    "print (\"Test Acc {}\".format(test_model(test_loader, model)))"
   ]
  },
  {
   "cell_type": "markdown",
   "metadata": {},
   "source": [
    "### List 3 correct and 3 incorrect predictions on validation set"
   ]
  },
  {
   "cell_type": "code",
   "execution_count": 192,
   "metadata": {},
   "outputs": [
    {
     "name": "stdout",
     "output_type": "stream",
     "text": [
      "correct prediction1 label:1\n",
      "There are enough sad stories about women and their oppression by religious, political and societal means. Not to diminish the films and stories about genital mutilation and reproductive rights, as well as wage inequality, and marginalization in society, all in the name of Allah or God or some other ridiculous justification, but sometimes it is helpful to just take another approach and shed some light on the subject.\n",
      "\n",
      "The setting is the 2006 match between Iran and Bahrain to qualify for the World Cup. Passions are high and several women try to disguise themselves as men to get into the match.\n",
      "\n",
      "The women who were caught (Played by Sima Mobarak-Shahi, Shayesteh Irani, Ayda Sadeqi, Golnaz Farmani, and Mahnaz Zabihi) and detained for prosecution provided a funny and illuminating glimpse into the customs of this country and, most likely, all Muslim countries. Their interaction with the Iranian soldiers who were guarding and transporting them, both city and villagers, and the father who was looking for his daughter provided some hilarious moments as we thought about why they have such unwritten rules.\n",
      "\n",
      "It is mainly about a paternalistic society that feels it has to save it's women from the crude behavior of it's men. Rather than educating the male population, they deny privilege and rights to the women.\n",
      "\n",
      "Seeing the changes in the soldiers responsible and the reflection of Iranian society, it is nos surprise this film will not get any play in Iran. But Jafar Panahi has a winner on his hands for those able to see it.\n",
      "\n",
      "\n",
      "correct prediction2 label:0\n",
      "A group of extremely unlikable A-holes are tormented by lame puppets that some elderly douche bag night-watchman has kept locked away in a film vault for twenty years for no reason whatsoever.\n",
      "\n",
      "Many people know this film merely from MST3K's spot-on ribbing of the flick. But I've seen the actual movie and can safely say that yes it's bad, really, REALLY bad. From the one of the most awful 'fight' scenes I've ever witnessed to the stuffed toy 'aliens' that suffer from a lack of motion (I had a My Pet Monster that was scarier) right up to the atrocious acting (I had a My Pet Monster that was more charismatic) However, that being said Rick Sloan's \"Vice Academy\" films are somehow, and trust me I have no earthly idea how, much worse. That's not to suggest that this film is anything but crap, because it isn't. Just throwing it out there.\n",
      "\n",
      "Eye Candy: no nudity in the movie proper, but there's 2 pairs of tits in the DVD Introduction to the film \n",
      "\n",
      "My Grade: D- \n",
      "\n",
      "Retromedia DVD Extras: Introduction by Jim Wynorski; Stills gallery; and Trailer for this film\n",
      "\n",
      "\n",
      "correct prediction3 label:1\n",
      "\"Moonstruck\" is a lovely little film directed by superb story teller, Norman Jewison (In the Heat of the Night, Fiddler on the Roof, The Hurricane). The film is great on many levels. It shows a good slice of Italian culture, has a touching romance, and (best of all) is a hilarious comedy.\n",
      "\n",
      "One thing I liked most about the film was the relative unconventional looks of the actors. Nicolas Cage looks positively odd for most of the film, and Cher... well, Cher always looks a little odd.\n",
      "\n",
      "Overall, it's a fun film, and easy to recommend.\n",
      "\n",
      "7.4 out of 10\n",
      "\n",
      "\n",
      "incorrect prediction1 label:1\n",
      "Twisted Desire (1996) was a TV movie starring Melissa Joan Hart. Melissa's character, Jennifer Stanton, a seventeen-year-old seduces her current boyfriend Nick Ryan into murdering her two parents. The movie is based on the 1990 murders of the parents of 14 year old Jessica Wiseman. Jessica had her 17 year old boyfriend Douglas Christopher Thomas shoot and kill her parents! Thomas was executed in 2000! Jessica was released from prison when she turned 21 years old. Evidence now suggests that it was Jessica who fired the fatal shot that killed her mother. Jessica is known to now be residing somewhere in the state of Virginia.\n",
      "\n",
      "\n",
      "incorrect prediction2 label:0\n",
      "This is one of those movies which makes you think: would Hulk \" The real American \" Hogan have done the same? Frankly I don't think so and he'd have been right. I'm Italian, I cannot go proud of my country for many reasons, but I wouldn't have rowed for another team (The French, for example), simply because I'm in love with Juliette Binoche. Besides the protagonist doesn't fall in love desire with a British girl at the end of the movie but with a fellow countrywoman, so why rowing against Yale. As far as acting is concerned, well, all the players act very poorly. And then , you know, I hated that \"Dead poets society \" atmosphere. In fact that's another movie I hate.\n",
      "\n",
      "\n",
      "incorrect prediction3 label:0\n",
      "A broke would be screenwriter and his would be agent (Tom Wood and Arye Gross) are forced to live in a self storage facility run by an eccentric and intimidating manager (Ron Perlman) whom they come to believe is the serial murderer that is terrorizing the city, the \"Costume Killer\" (so named because, after injecting his victims with Windex, he dresses them in silly costumes). They convince him his life story would make a great film and gather together a group of misfit wannabe film makers (John Considine, Joe Pantoliano, Kristy Swanson) and discover that the art of movie making can be murder.\n",
      "\n",
      "There is more to this movie but it was unfortunately left on the editing room floor and it shows (rumor is the studio wanted a \"lighter\" dark comedy). Our loss (and the actors, who all do fine jobs and deserve better) as this has the makings of an exceptional black comedy but only rises to mediocre cute.\n",
      "\n",
      "If you're a Ron Perlman fan this is absolutely worth getting just for his performance. His comedic timing is excellent and he has the chance to do some really great impressions (he wasn't kidding when he said on the Hellboy movie commentary that he needed an intervention when he gets into Jerry Lewis mode). He's just simply fun to watch in this one. \n",
      "\n",
      "David Dukes also shines in a two-scener (but pivotal) role.\n",
      "\n",
      "\n"
     ]
    }
   ],
   "source": [
    "\n",
    "val_dataset = IMDBDataset(val_data_indices, val_targets)\n",
    "val_loader = torch.utils.data.DataLoader(dataset=val_dataset, \n",
    "                                               batch_size=BATCH_SIZE,\n",
    "                                               collate_fn=imdb_collate_func,\n",
    "                                               shuffle=False)\n",
    "\n",
    "predictions = []\n",
    "# model.eval()\n",
    "for data, lengths, labels in val_loader:\n",
    "    data_batch, length_batch, label_batch = data, lengths, labels\n",
    "    outputs = F.softmax(model(data_batch, length_batch), dim=1)\n",
    "    \n",
    "    #get the index of the max\n",
    "    predicted = outputs.max(1, keepdim=True)[1]\n",
    "    predictions += predicted.numpy().tolist()\n",
    "\n",
    "prediction = [item[0] for item in predictions]\n",
    "\n",
    "correct = 0\n",
    "incorrect = 0\n",
    "for i in range(len(val_data)):\n",
    "    if(val_targets[i] == prediction[i]):\n",
    "        print('correct prediction{} label:{}'.format(correct+1,val_targets[i]))\n",
    "        review = val_data[i].replace(\"<br />\",\"\\n\")\n",
    "        print(review+'\\n\\n')\n",
    "        correct +=1\n",
    "    if(correct > 2):break\n",
    "\n",
    "for i in range(len(val_data)):\n",
    "    if(val_targets[i] != prediction[i]):\n",
    "        print('incorrect prediction{} label:{}'.format(incorrect+1,val_targets[i]))\n",
    "        review = val_data[i].replace(\"<br />\",\"\\n\")\n",
    "        print(review+'\\n\\n')\n",
    "        incorrect +=1\n",
    "    if(incorrect > 2):break"
   ]
  },
  {
   "cell_type": "code",
   "execution_count": null,
   "metadata": {},
   "outputs": [],
   "source": []
  }
 ],
 "metadata": {
  "kernelspec": {
   "display_name": "Python 3",
   "language": "python",
   "name": "python3"
  },
  "language_info": {
   "codemirror_mode": {
    "name": "ipython",
    "version": 3
   },
   "file_extension": ".py",
   "mimetype": "text/x-python",
   "name": "python",
   "nbconvert_exporter": "python",
   "pygments_lexer": "ipython3",
   "version": "3.6.6"
  }
 },
 "nbformat": 4,
 "nbformat_minor": 2
}
